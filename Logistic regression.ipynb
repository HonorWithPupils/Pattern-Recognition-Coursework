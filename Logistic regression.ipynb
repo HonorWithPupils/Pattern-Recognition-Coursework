{
 "cells": [
  {
   "cell_type": "markdown",
   "metadata": {},
   "source": [
    "# Logistic regression 逻辑斯蒂回归"
   ]
  },
  {
   "cell_type": "code",
   "execution_count": 1,
   "metadata": {
    "ExecuteTime": {
     "end_time": "2019-11-14T12:44:36.830863Z",
     "start_time": "2019-11-14T12:44:36.810513Z"
    }
   },
   "outputs": [],
   "source": [
    "import numpy as np"
   ]
  },
  {
   "cell_type": "markdown",
   "metadata": {},
   "source": [
    "## Model：\n",
    "$$\n",
    "P(y|x)=\\frac {1} {1+e^{-(w^T x + b)}}\n",
    "$$"
   ]
  },
  {
   "cell_type": "markdown",
   "metadata": {},
   "source": [
    "## Strategy: Maximum likelihood estimation\n",
    "Sigmoid 函数：\n",
    "\n",
    "$$\n",
    "S(x)=\\frac {1} {1+e^{-x}}\\\\\n",
    "S'(x)=S(x)[1-S(x)]\n",
    "$$"
   ]
  },
  {
   "cell_type": "markdown",
   "metadata": {},
   "source": [
    "另 $z= y(w^T x +b)$ ,则\n",
    "\n",
    "$$\n",
    "P(y|x)=S(z)\n",
    "$$"
   ]
  },
  {
   "cell_type": "markdown",
   "metadata": {},
   "source": [
    "最大似然函数\n",
    "\n",
    "$$\n",
    "L(w,b)=P(Y|X;{w,b})\n",
    "=\\prod_{n=1}^N {P(y_n|x_n;w,b)}\n",
    "=\\prod_{n=1}^N S(z_n)\n",
    "$$"
   ]
  },
  {
   "cell_type": "markdown",
   "metadata": {},
   "source": [
    "对似然函数两边取对数得\n",
    "\n",
    "$$\n",
    "lnL(w,b)=\\sum_{i=1}^N {ln[S(z_n)]}\\\\\n",
    "\\nabla_w lnL(w,b)=\\sum_{i=1}^N {S(-z_n) y_n x_n}\\\\\n",
    "\\nabla_b lnL(w,b)=\\sum_{i=1}^N {S(-z_n) y_n}\n",
    "$$"
   ]
  },
  {
   "cell_type": "markdown",
   "metadata": {},
   "source": [
    "即优化问题\n",
    "\n",
    "$$\n",
    "\\min_{w,b} \\quad -\\sum_{i=1}^N {ln[S(z_n)]}\n",
    "$$"
   ]
  },
  {
   "cell_type": "markdown",
   "metadata": {},
   "source": [
    "## Algorithm: Gradient Descent"
   ]
  },
  {
   "cell_type": "markdown",
   "metadata": {},
   "source": [
    "$$\n",
    "x^{i+1}=x^i-\\eta \\times \\nabla_x f(x)|_{x=x^i}\n",
    "$$\n",
    "\n",
    "$$\n",
    "when\\ \\ i\\to\\infty\\quad x=arg \\min_x f(x)\n",
    "$$"
   ]
  },
  {
   "cell_type": "code",
   "execution_count": 2,
   "metadata": {
    "ExecuteTime": {
     "end_time": "2019-11-14T12:44:40.305160Z",
     "start_time": "2019-11-14T12:44:40.285561Z"
    }
   },
   "outputs": [],
   "source": [
    "def minimize_GD(fun, dfun, x0, tol=1e-5, eta=0.05, gamma=0.1,maxIter=100000):\n",
    "    # fun：目标函数 fun(array x):return valve\n",
    "    # dfun: 目标函数梯度函数 g(array x):return array 形似 x\n",
    "    # x0：起始点\n",
    "    # tol：误差范围\n",
    "    # eta: 初始学习率\n",
    "    # gammma: 学习率衰减 每1000次\n",
    "    # maxIter：最大迭代次数\n",
    "    cnt = 0\n",
    "    lrd_cnt = 0\n",
    "    x = x0\n",
    "    e = eta\n",
    "    g = dfun(x)\n",
    "    while np.linalg.norm(g) > tol and cnt < maxIter:\n",
    "        # 以梯度范数效于误差，作为结束条件\n",
    "        x = x-eta*g\n",
    "        g = dfun(x)\n",
    "        cnt += 1\n",
    "        lrd_cnt += 1\n",
    "        if lrd_cnt >= 1000:\n",
    "            lrd_cnt = 0\n",
    "            e=e*gamma\n",
    "    return {'目标函数最小值': fun(x),\n",
    "            '参数': x,\n",
    "            '迭代次数': cnt,\n",
    "            '成功与否': np.linalg.norm(g) <= tol}"
   ]
  },
  {
   "cell_type": "code",
   "execution_count": 3,
   "metadata": {
    "ExecuteTime": {
     "end_time": "2019-11-10T07:15:15.189722Z",
     "start_time": "2019-11-10T07:15:15.158720Z"
    }
   },
   "outputs": [
    {
     "data": {
      "text/plain": [
       "{'目标函数最小值': 2.4224910985703708e-11,\n",
       " '参数': array([ 1.99999508,  3.        , -1.        ]),\n",
       " '迭代次数': 116,\n",
       " '成功与否': True}"
      ]
     },
     "execution_count": 3,
     "metadata": {},
     "output_type": "execute_result"
    }
   ],
   "source": [
    "# 测试 minimization_GD\n",
    "fun = lambda x: (x[0]-2)**2+(x[1]-3)**2+(x[2]+1)**2\n",
    "dfun = lambda x: np.array([2*x[0]-4,2*x[1]-6,2*x[2]+2])\n",
    "x0=np.array([1,3,-1])\n",
    "minimize_GD(fun,dfun,x0)"
   ]
  },
  {
   "cell_type": "markdown",
   "metadata": {},
   "source": [
    "为了方便运算将 b 并入 w 中，即在 x 后添加一个 1\n",
    "\n",
    "$$\n",
    "lnL(w)=\\sum_{i=1}^N {ln[S(z_n)]}\\\\\n",
    "\\nabla_w lnL(w)=\\sum_{i=1}^N {S(-z_n) y_n x_n}\n",
    "$$\n",
    "\n",
    "目标函数为\n",
    "\n",
    "$$\n",
    "-\\frac 1 N lnL(w)=-\\frac 1 N \\sum_{i=1}^N {ln[S(z_n)]}\n",
    "$$\n",
    "\n",
    "目标函数梯度函数为\n",
    "\n",
    "$$\n",
    "-\\frac 1 N \\nabla_w lnL(w)=-\\frac 1 N \\sum_{i=1}^N {S(-z_n) y_n x_n}\n",
    "$$"
   ]
  },
  {
   "cell_type": "code",
   "execution_count": 3,
   "metadata": {
    "ExecuteTime": {
     "end_time": "2019-11-14T12:44:50.258800Z",
     "start_time": "2019-11-14T12:44:50.246516Z"
    }
   },
   "outputs": [],
   "source": [
    "def S(x): return 1/(1+np.exp(-x)) # 定义Sigmoid函数"
   ]
  },
  {
   "cell_type": "code",
   "execution_count": 4,
   "metadata": {
    "ExecuteTime": {
     "end_time": "2019-11-14T12:44:57.013798Z",
     "start_time": "2019-11-14T12:44:51.923152Z"
    },
    "code_folding": [
     0
    ]
   },
   "outputs": [],
   "source": [
    "# 读入数据 \n",
    "from sklearn.datasets import load_iris\n",
    "from random import shuffle\n",
    "iris = load_iris()\n",
    "X = iris.data[0:100]\n",
    "Y = iris.target[0:100]\n",
    "Y = Y*2-1  # 原数据的标签是0，1，这里处理成 -1，1\n",
    "order = [i for i in range(0, 100)]\n",
    "shuffle(order)\n",
    "X, Y = X[order], Y[order]  # 乱序\n",
    "N = 50\n",
    "x, y = X[:N], Y[:N]  # 前N个作为训练集"
   ]
  },
  {
   "cell_type": "code",
   "execution_count": 7,
   "metadata": {
    "ExecuteTime": {
     "end_time": "2019-11-14T12:47:13.720559Z",
     "start_time": "2019-11-14T12:46:37.222635Z"
    }
   },
   "outputs": [
    {
     "data": {
      "text/plain": [
       "{'目标函数最小值': 2.2178545759859353e-05,\n",
       " '参数': array([-1.9426866 , -4.52039231,  7.82967764,  4.19480088, -0.31481874]),\n",
       " '迭代次数': 534907,\n",
       " '成功与否': True}"
      ]
     },
     "execution_count": 7,
     "metadata": {},
     "output_type": "execute_result"
    }
   ],
   "source": [
    "# 批量梯度下降法 BGD\n",
    "x_1 = np.concatenate((x, np.ones((N, 1))), axis=1)  # X 后面添加一排 1\n",
    "fun = lambda w : -1/N*(np.log(S(y*np.dot(w, x_1.T)))).sum()\n",
    "dfun = lambda w : -1/N*np.dot(S(-y*np.dot(w, x_1.T))*y, x_1)\n",
    "w0 = np.ones(5)\n",
    "res = minimize_GD(fun,dfun,w0,eta=0.1,gamma=0.5,tol=2e-5,maxIter=np.infty)\n",
    "# res['参数'] = res['参数']/np.linalg.norm(res['参数'])\n",
    "wb = res['参数']\n",
    "res"
   ]
  },
  {
   "cell_type": "markdown",
   "metadata": {},
   "source": [
    "合适的学习率固定衰减能显著减少简单问题的迭代次数\n",
    "\n",
    "<br/>\n",
    "\n",
    "|初始学习率|学习率衰减值|误差|迭代次数|最小值|评价|\n",
    "|------:|------:|------:|-------:|------:|------|\n",
    "|0.1|0.5|2e-5|   502273|2.10008e-05|与下组对照|\n",
    "|0.01|1.0|2e-5| 5022779|2.10009e-05|无学习率衰减情况下，迭代次数过大|"
   ]
  },
  {
   "cell_type": "code",
   "execution_count": 6,
   "metadata": {
    "ExecuteTime": {
     "end_time": "2019-11-14T12:45:45.384135Z",
     "start_time": "2019-11-14T12:45:45.359885Z"
    }
   },
   "outputs": [
    {
     "data": {
      "text/plain": [
       "{'目标函数最小值': 2.2178545759859353e-05,\n",
       " '参数': array([-0.19122627, -0.44495996,  0.7707059 ,  0.41291071, -0.03098884]),\n",
       " '迭代次数': 534907,\n",
       " '成功与否': True}"
      ]
     },
     "execution_count": 6,
     "metadata": {},
     "output_type": "execute_result"
    }
   ],
   "source": [
    "res"
   ]
  },
  {
   "cell_type": "code",
   "execution_count": 8,
   "metadata": {
    "ExecuteTime": {
     "end_time": "2019-11-14T12:47:14.078947Z",
     "start_time": "2019-11-14T12:47:13.960509Z"
    }
   },
   "outputs": [
    {
     "name": "stdout",
     "output_type": "stream",
     "text": [
      "最小值： 2.1580919828592794e-06\n",
      "参数： [-2.10488154 -6.56942085  9.90047514  5.12260486 -0.48935849]\n",
      "成功与否： True\n"
     ]
    }
   ],
   "source": [
    "# 用 scipy.optimize.minimize 来作为对照 ;\n",
    "from scipy.optimize import minimize\n",
    "w0=np.ones(5)\n",
    "res=minimize(fun,w0)\n",
    "print('最小值：',res.fun)\n",
    "print('参数：',res.x)\n",
    "print('成功与否：',res.success)"
   ]
  },
  {
   "cell_type": "code",
   "execution_count": 10,
   "metadata": {
    "ExecuteTime": {
     "end_time": "2019-11-14T12:48:26.873464Z",
     "start_time": "2019-11-14T12:48:26.324396Z"
    }
   },
   "outputs": [
    {
     "data": {
      "image/png": "[encoded data removed]",
      "text/plain": [
       "<Figure size 432x288 with 1 Axes>"
      ]
     },
     "metadata": {
      "needs_background": "light"
     },
     "output_type": "display_data"
    }
   ],
   "source": [
    "# 测试一下\n",
    "def decifun(x): return 2*S(np.inner(x,wb[:-1])+wb[-1])-1\n",
    "clfRes=decifun(X[N:])\n",
    "import matplotlib.pyplot as plt\n",
    "plt.stem(Y[N:], use_line_collection=True, linefmt='b:', markerfmt='yD')\n",
    "plt.stem(clfRes, use_line_collection=True, linefmt='g-')\n",
    "plt.show()"
   ]
  },
  {
   "cell_type": "markdown",
   "metadata": {},
   "source": [
    "## Sklearn\n",
    "\n",
    "<https://scikit-learn.org/stable/modules/generated/sklearn.linear_model.LogisticRegression.html>"
   ]
  },
  {
   "cell_type": "code",
   "execution_count": 26,
   "metadata": {
    "ExecuteTime": {
     "end_time": "2019-11-10T07:32:04.455662Z",
     "start_time": "2019-11-10T07:32:04.440146Z"
    }
   },
   "outputs": [
    {
     "name": "stdout",
     "output_type": "stream",
     "text": [
      "参数为 [[-0.16467573 -0.48693876  0.78404089  0.33683552 -0.08714506]]\n",
      "预测准确率： 1.0\n"
     ]
    }
   ],
   "source": [
    "from sklearn.linear_model import LogisticRegression\n",
    "clf = LogisticRegression(solver='liblinear').fit(x,y)\n",
    "wb=np.concatenate((clf.coef_,clf.intercept_.reshape((1,1))),axis=1)\n",
    "wb=wb/np.linalg.norm(wb)\n",
    "print('参数为',wb) # 差的比较多\n",
    "print('预测准确率：',clf.score(X[N:],Y[N:]))"
   ]
  }
 ],
 "metadata": {
  "kernelspec": {
   "display_name": "Python 3 (ipykernel)",
   "language": "python",
   "name": "python3"
  },
  "language_info": {
   "codemirror_mode": {
    "name": "ipython",
    "version": 3
   },
   "file_extension": ".py",
   "mimetype": "text/x-python",
   "name": "python",
   "nbconvert_exporter": "python",
   "pygments_lexer": "ipython3",
   "version": "3.9.7"
  },
  "toc": {
   "base_numbering": 1,
   "nav_menu": {},
   "number_sections": true,
   "sideBar": true,
   "skip_h1_title": false,
   "title_cell": "Table of Contents",
   "title_sidebar": "Contents",
   "toc_cell": false,
   "toc_position": {},
   "toc_section_display": true,
   "toc_window_display": false
  },
  "varInspector": {
   "cols": {
    "lenName": 16,
    "lenType": 16,
    "lenVar": 40
   },
   "kernels_config": {
    "python": {
     "delete_cmd_postfix": "",
     "delete_cmd_prefix": "del ",
     "library": "var_list.py",
     "varRefreshCmd": "print(var_dic_list())"
    },
    "r": {
     "delete_cmd_postfix": ") ",
     "delete_cmd_prefix": "rm(",
     "library": "var_list.r",
     "varRefreshCmd": "cat(var_dic_list()) "
    }
   },
   "types_to_exclude": [
    "module",
    "function",
    "builtin_function_or_method",
    "instance",
    "_Feature"
   ],
   "window_display": false
  }
 },
 "nbformat": 4,
 "nbformat_minor": 4
}
