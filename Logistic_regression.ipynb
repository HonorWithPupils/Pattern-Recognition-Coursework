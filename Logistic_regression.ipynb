{
 "cells": [
  {
   "cell_type": "markdown",
   "metadata": {},
   "source": [
    "# Logistic regression 罗杰斯蒂回归"
   ]
  },
  {
   "cell_type": "code",
   "execution_count": 136,
   "metadata": {
    "ExecuteTime": {
     "end_time": "2019-11-14T12:44:36.830863Z",
     "start_time": "2019-11-14T12:44:36.810513Z"
    }
   },
   "outputs": [],
   "source": [
    "import numpy as np\n",
    "import matplotlib.pyplot as plt\n",
    "import pandas as pd\n",
    "import metrics as mc"
   ]
  },
  {
   "cell_type": "markdown",
   "metadata": {},
   "source": [
    "## Model："
   ]
  },
  {
   "cell_type": "markdown",
   "metadata": {},
   "source": [
    "\n",
    "$$\n",
    "P(y|x)=\\frac {1} {1+e^{-y(w^T x + b)}} \n",
    "$$\n",
    "\n",
    "$$\n",
    "\\text{where  }y\\in \\{-1,1\\}\n",
    "$$"
   ]
  },
  {
   "cell_type": "markdown",
   "metadata": {
    "tags": [],
    "toc-hr-collapsed": true
   },
   "source": [
    "## Strategy: Maximum likelihood estimation"
   ]
  },
  {
   "cell_type": "markdown",
   "metadata": {},
   "source": [
    "\n",
    "Sigmoid 函数：\n",
    "\n",
    "$$\n",
    "S(x)=\\frac {1} {1+e^{-x}}\n",
    "$$\n",
    "$$\n",
    "S'(x)=S(x)[1-S(x)]=S(x)S(-x)\n",
    "$$"
   ]
  },
  {
   "cell_type": "markdown",
   "metadata": {},
   "source": [
    "另  $z= y(w^T x +b)$  ,则\n",
    "\n",
    "$$\n",
    "P(y|x)=S(z)\n",
    "$$"
   ]
  },
  {
   "cell_type": "markdown",
   "metadata": {},
   "source": [
    "最大似然函数\n",
    "\n",
    "$$\n",
    "\\begin{aligned}\n",
    "L(w,b)&=P(Y|X;{w,b}) \\\\\n",
    "&=\\prod_{n=1}^N {P(y_n|x_n;w,b)} \\\\\n",
    "&=\\prod_{n=1}^N S(z_n)\n",
    "\\end{aligned}\n",
    "$$"
   ]
  },
  {
   "cell_type": "markdown",
   "metadata": {},
   "source": [
    "对似然函数两边取对数得\n",
    "\n",
    "$$\n",
    "\\begin{aligned}\n",
    "lnL(w,b)&=\\sum_{i=1}^N {ln[S(z_n)]} \\\\\n",
    "\\nabla_w lnL(w,b)&=\\sum_{i=1}^N {S(-z_n) y_n x_n} \\\\\n",
    "\\nabla_b lnL(w,b)&=\\sum_{i=1}^N {S(-z_n) y_n} \n",
    "\\end{aligned}\n",
    "$$"
   ]
  },
  {
   "cell_type": "markdown",
   "metadata": {},
   "source": [
    "即优化问题\n",
    "\n",
    "$$\n",
    "\\min_{w,b} \\quad -\\sum_{i=1}^N {ln[S(z_n)]}\n",
    "$$"
   ]
  },
  {
   "cell_type": "markdown",
   "metadata": {},
   "source": [
    "## Algorithm: Gradient Descent"
   ]
  },
  {
   "cell_type": "markdown",
   "metadata": {},
   "source": [
    "$$\n",
    "x^{i+1}=x^i-\\eta \\times \\nabla_x f(x)|_{x=x^i}\n",
    "$$\n",
    "\n",
    "$$\n",
    "when\\ \\ i\\to\\infty\\quad x=arg \\min_x f(x)\n",
    "$$"
   ]
  },
  {
   "cell_type": "code",
   "execution_count": 89,
   "metadata": {
    "ExecuteTime": {
     "end_time": "2019-11-14T12:44:40.305160Z",
     "start_time": "2019-11-14T12:44:40.285561Z"
    }
   },
   "outputs": [],
   "source": [
    "def minimize_GD(\n",
    "    fun, dfun, x0, tol=1e-4, eta=0.05, gamma=0.1, maxIter=100000, plot=False\n",
    "):\n",
    "    \"\"\"梯度下降法 最小化\n",
    "    args:\n",
    "        fun：目标函数 fun(array x):return valve\n",
    "        dfun: 目标函数梯度函数 g(array x):return array.like(x.shape())\n",
    "        x0：起始点\n",
    "        tol：误差范围 ||f'(x)||<tol\n",
    "        eta: 初始学习率\n",
    "        gammma: 学习率衰减 每1000次 eta = gamma*eta\n",
    "        maxIter：最大迭代次数\n",
    "    return:\n",
    "        dict\n",
    "    \"\"\"\n",
    "    cnt = 0\n",
    "    lrd_cnt = 0  # count for learning rate decay\n",
    "    x = x0\n",
    "    g = dfun(x)\n",
    "    f = []\n",
    "    while np.linalg.norm(g) > tol and cnt < maxIter:\n",
    "        # 以梯度范数效于误差，作为结束条件\n",
    "        f.append(fun(x))\n",
    "\n",
    "        x = x - eta * g\n",
    "        g = dfun(x)\n",
    "        cnt += 1\n",
    "        lrd_cnt += 1\n",
    "        if lrd_cnt >= 10000:\n",
    "            lrd_cnt = 0\n",
    "            eta = eta * gamma\n",
    "\n",
    "    if plot:\n",
    "        fig = plt.figure()\n",
    "        plt.xlabel(\"iter\")\n",
    "        plt.ylabel(\"fun(x)\")\n",
    "        plt.plot(f)\n",
    "\n",
    "    return {\"目标函数最小值\": fun(x), \"参数\": x, \"迭代次数\": cnt, \"成功与否\": np.linalg.norm(g) <= tol}"
   ]
  },
  {
   "cell_type": "code",
   "execution_count": 90,
   "metadata": {
    "ExecuteTime": {
     "end_time": "2019-11-10T07:15:15.189722Z",
     "start_time": "2019-11-10T07:15:15.158720Z"
    }
   },
   "outputs": [
    {
     "data": {
      "text/plain": [
       "{'目标函数最小值': 2.25956612728179e-09,\n",
       " '参数': array([ 1.99997459,  2.99996189, -0.9999873 ]),\n",
       " '迭代次数': 107,\n",
       " '成功与否': True}"
      ]
     },
     "execution_count": 90,
     "metadata": {},
     "output_type": "execute_result"
    },
    {
     "data": {
      "image/png": "[encoded data removed]",
      "text/plain": [
       "<Figure size 432x288 with 1 Axes>"
      ]
     },
     "metadata": {
      "needs_background": "light"
     },
     "output_type": "display_data"
    }
   ],
   "source": [
    "# 测试 minimization_GD\n",
    "fun = lambda x: (x[0] - 2) ** 2 + (x[1] - 3) ** 2 + (x[2] + 1) ** 2\n",
    "dfun = lambda x: np.array([2 * x[0] - 4, 2 * x[1] - 6, 2 * x[2] + 2])\n",
    "x0 = np.zeros(3)\n",
    "minimize_GD(fun, dfun, x0, plot=True)"
   ]
  },
  {
   "cell_type": "markdown",
   "metadata": {},
   "source": [
    "为了方便运算将 b 并入 w 中，即在 x 后添加一个 1\n",
    "\n",
    "$$\n",
    "lnL(w)=\\sum_{i=1}^N {ln[S(z_n)]}\n",
    "$$\n",
    "$$\n",
    "\\nabla_w lnL(w)=\\sum_{i=1}^N {S(-z_n) y_n x_n}\n",
    "$$\n",
    "\n",
    "目标函数为\n",
    "\n",
    "$$\n",
    "-\\frac 1 N lnL(w)=-\\frac 1 N \\sum_{i=1}^N {ln[S(z_n)]}\n",
    "$$\n",
    "\n",
    "目标函数梯度函数为\n",
    "\n",
    "$$\n",
    "-\\frac 1 N \\nabla_w lnL(w)=-\\frac 1 N \\sum_{i=1}^N {S(-z_n) y_n x_n}\n",
    "$$"
   ]
  },
  {
   "cell_type": "code",
   "execution_count": 60,
   "metadata": {
    "ExecuteTime": {
     "end_time": "2019-11-14T12:44:50.258800Z",
     "start_time": "2019-11-14T12:44:50.246516Z"
    }
   },
   "outputs": [],
   "source": [
    "def Sigmod(x): return 1/(1+np.exp(-x))  # 定义Sigmoid函数"
   ]
  },
  {
   "cell_type": "code",
   "execution_count": 61,
   "metadata": {
    "ExecuteTime": {
     "end_time": "2019-11-14T12:44:57.013798Z",
     "start_time": "2019-11-14T12:44:51.923152Z"
    },
    "code_folding": [
     0
    ]
   },
   "outputs": [],
   "source": [
    "# 读入数据 \n",
    "from sklearn.datasets import load_iris\n",
    "from random import shuffle\n",
    "iris = load_iris()\n",
    "X = iris.data[0:100]\n",
    "Y = iris.target[0:100]\n",
    "Y = Y*2-1  # 原数据的标签是0，1，这里处理成 -1，1\n",
    "order = [i for i in range(0, 100)]\n",
    "shuffle(order)\n",
    "X, Y = X[order], Y[order]  # 乱序\n",
    "N = 50\n",
    "x, y = X[:N], Y[:N]  # 前N个作为训练集"
   ]
  },
  {
   "cell_type": "code",
   "execution_count": 104,
   "metadata": {
    "ExecuteTime": {
     "end_time": "2019-11-14T12:47:13.720559Z",
     "start_time": "2019-11-14T12:46:37.222635Z"
    }
   },
   "outputs": [
    {
     "data": {
      "text/plain": [
       "{'目标函数最小值': 0.00012004471288622235,\n",
       " '参数': array([-1.59849899e+00, -4.01810881e+00,  6.68480456e+00,  3.99091951e+00,\n",
       "         1.05909893e-03]),\n",
       " '迭代次数': 112297,\n",
       " '成功与否': True}"
      ]
     },
     "execution_count": 104,
     "metadata": {},
     "output_type": "execute_result"
    },
    {
     "data": {
      "image/png": "[encoded data removed]",
      "text/plain": [
       "<Figure size 432x288 with 1 Axes>"
      ]
     },
     "metadata": {
      "needs_background": "light"
     },
     "output_type": "display_data"
    }
   ],
   "source": [
    "# 批量梯度下降法 BGD\n",
    "x_1 = np.concatenate((x, np.ones((N, 1))), axis=1)  # X 后面添加一排 1\n",
    "\n",
    "fun = lambda w: -1 / N * (np.log(Sigmod(y * (w@x_1.T)))).sum()\n",
    "dfun = lambda w: -1 / N * (((Sigmod(-y * (w@x_1.T)))*y)@x_1)\n",
    "\n",
    "w0 = np.ones(5)\n",
    "res = minimize_GD(fun, dfun, w0, eta=0.1, gamma=1.0, tol=1e-4, maxIter=10000000, plot=True)\n",
    "res"
   ]
  },
  {
   "cell_type": "markdown",
   "metadata": {},
   "source": [
    "|初始学习率|学习率衰减值|误差|迭代次数|最小值|注释|\n",
    "|------:|------:|------:|-------:|------:|------:|\n",
    "|0.01   |1.0    |1e-4   | 1123005|1.20045e-04|无衰减|\n",
    "| 0.1   |1.0    |1e-4   |  112297|1.20045e-04|无衰减|\n",
    "| 0.1   |1.0    |1e-5   | 1209564|1.25849e-05|无衰减|\n",
    "| 0.1   |0.99   |1e-5   |    NULL|       NULL|失败  |\n",
    "\n",
    "一有衰减就失败，似乎梯度下降法不太适合学习率衰减"
   ]
  },
  {
   "cell_type": "code",
   "execution_count": 99,
   "metadata": {
    "ExecuteTime": {
     "end_time": "2019-11-14T12:48:26.873464Z",
     "start_time": "2019-11-14T12:48:26.324396Z"
    }
   },
   "outputs": [],
   "source": [
    "# 测试一下\n",
    "def decifun(x):\n",
    "    return 2 * Sigmod(np.inner(x, wb[:-1]) + wb[-1]) - 1"
   ]
  },
  {
   "cell_type": "code",
   "execution_count": 105,
   "metadata": {
    "ExecuteTime": {
     "end_time": "2019-11-14T12:48:26.873464Z",
     "start_time": "2019-11-14T12:48:26.324396Z"
    }
   },
   "outputs": [
    {
     "data": {
      "image/png": "[encoded data removed]",
      "text/plain": [
       "<Figure size 432x288 with 1 Axes>"
      ]
     },
     "metadata": {
      "needs_background": "light"
     },
     "output_type": "display_data"
    }
   ],
   "source": [
    "wb = res[\"参数\"]\n",
    "clfRes = decifun(X[N:])\n",
    "plt.stem(Y[N:], use_line_collection=True, linefmt=\"b:\", markerfmt=\"yD\")\n",
    "plt.stem(clfRes, use_line_collection=True, linefmt=\"g-\")\n",
    "plt.show()"
   ]
  },
  {
   "cell_type": "code",
   "execution_count": 108,
   "metadata": {
    "ExecuteTime": {
     "end_time": "2019-11-14T12:47:14.078947Z",
     "start_time": "2019-11-14T12:47:13.960509Z"
    }
   },
   "outputs": [
    {
     "name": "stdout",
     "output_type": "stream",
     "text": [
      "最小值： 1.5704635996256054e-06\n",
      "参数： [-2.63611328 -8.36847809 12.54726884  6.35576584 -0.73287025]\n",
      "成功与否： True\n"
     ]
    }
   ],
   "source": [
    "# 用 scipy.optimize.minimize 来作为对照 ;\n",
    "# 又快又好，要学好最优化啊\n",
    "from scipy.optimize import minimize\n",
    "\n",
    "w0 = np.ones(5)\n",
    "res_scipy = minimize(fun, w0)\n",
    "print(\"最小值：\", res_scipy.fun)\n",
    "print(\"参数：\", res_scipy.x)\n",
    "print(\"成功与否：\", res_scipy.success)"
   ]
  },
  {
   "cell_type": "code",
   "execution_count": 109,
   "metadata": {},
   "outputs": [
    {
     "data": {
      "image/png": "[encoded data removed]",
      "text/plain": [
       "<Figure size 432x288 with 1 Axes>"
      ]
     },
     "metadata": {
      "needs_background": "light"
     },
     "output_type": "display_data"
    }
   ],
   "source": [
    "wb = np.array(res_scipy.x)\n",
    "clfRes = decifun(X[N:])\n",
    "plt.stem(Y[N:], use_line_collection=True, linefmt=\"b:\", markerfmt=\"yD\")\n",
    "plt.stem(clfRes, use_line_collection=True, linefmt=\"g-\")\n",
    "plt.show()"
   ]
  },
  {
   "cell_type": "markdown",
   "metadata": {},
   "source": [
    "## 实现"
   ]
  },
  {
   "cell_type": "code",
   "execution_count": 168,
   "metadata": {},
   "outputs": [],
   "source": [
    "class LogisticReg:\n",
    "    def __init__(self):\n",
    "        self.w = None\n",
    "        self.M = None\n",
    "\n",
    "    def fit(self, X, Y):\n",
    "        N = X.shape[0]\n",
    "        self.M = X.shape[1]\n",
    "\n",
    "        Y = 2 * Y - 1\n",
    "        X_1 = np.concatenate((X, np.ones((N, 1))), axis=1)  # X 后面添加一排 1\n",
    "\n",
    "        fun = lambda w: (-1 / N) * (np.log(Sigmod(Y * (w @ X_1.T)))).sum()\n",
    "\n",
    "        w0 = np.zeros(self.M+1)\n",
    "        self.w = minimize(fun, w0).x\n",
    "\n",
    "    def predict(self, X, return_Prob=False):\n",
    "        X_1 = np.concatenate((X, np.ones((len(X), 1))), axis=1)  # X 后面添加一排 1\n",
    "        prob = Sigmod(self.w @ X_1.T)\n",
    "        if return_Prob:\n",
    "            return prob > 0.5, prob\n",
    "        else:\n",
    "            return prob > 0.5"
   ]
  },
  {
   "cell_type": "markdown",
   "metadata": {},
   "source": [
    "## 测试"
   ]
  },
  {
   "cell_type": "code",
   "execution_count": 169,
   "metadata": {},
   "outputs": [
    {
     "data": {
      "text/html": [
       "<div>\n",
       "<style scoped>\n",
       "    .dataframe tbody tr th:only-of-type {\n",
       "        vertical-align: middle;\n",
       "    }\n",
       "\n",
       "    .dataframe tbody tr th {\n",
       "        vertical-align: top;\n",
       "    }\n",
       "\n",
       "    .dataframe thead th {\n",
       "        text-align: right;\n",
       "    }\n",
       "</style>\n",
       "<table border=\"1\" class=\"dataframe\">\n",
       "  <thead>\n",
       "    <tr style=\"text-align: right;\">\n",
       "      <th></th>\n",
       "      <th>Age</th>\n",
       "      <th>Sex</th>\n",
       "      <th>ChestPainType</th>\n",
       "      <th>RestingBP</th>\n",
       "      <th>Cholesterol</th>\n",
       "      <th>FastingBS</th>\n",
       "      <th>RestingECG</th>\n",
       "      <th>MaxHR</th>\n",
       "      <th>ExerciseAngina</th>\n",
       "      <th>Oldpeak</th>\n",
       "      <th>ST_Slope</th>\n",
       "      <th>HeartDisease</th>\n",
       "    </tr>\n",
       "  </thead>\n",
       "  <tbody>\n",
       "    <tr>\n",
       "      <th>0</th>\n",
       "      <td>40</td>\n",
       "      <td>M</td>\n",
       "      <td>ATA</td>\n",
       "      <td>140</td>\n",
       "      <td>289</td>\n",
       "      <td>0</td>\n",
       "      <td>Normal</td>\n",
       "      <td>172</td>\n",
       "      <td>N</td>\n",
       "      <td>0.0</td>\n",
       "      <td>Up</td>\n",
       "      <td>0</td>\n",
       "    </tr>\n",
       "    <tr>\n",
       "      <th>1</th>\n",
       "      <td>49</td>\n",
       "      <td>F</td>\n",
       "      <td>NAP</td>\n",
       "      <td>160</td>\n",
       "      <td>180</td>\n",
       "      <td>0</td>\n",
       "      <td>Normal</td>\n",
       "      <td>156</td>\n",
       "      <td>N</td>\n",
       "      <td>1.0</td>\n",
       "      <td>Flat</td>\n",
       "      <td>1</td>\n",
       "    </tr>\n",
       "    <tr>\n",
       "      <th>2</th>\n",
       "      <td>37</td>\n",
       "      <td>M</td>\n",
       "      <td>ATA</td>\n",
       "      <td>130</td>\n",
       "      <td>283</td>\n",
       "      <td>0</td>\n",
       "      <td>ST</td>\n",
       "      <td>98</td>\n",
       "      <td>N</td>\n",
       "      <td>0.0</td>\n",
       "      <td>Up</td>\n",
       "      <td>0</td>\n",
       "    </tr>\n",
       "    <tr>\n",
       "      <th>3</th>\n",
       "      <td>48</td>\n",
       "      <td>F</td>\n",
       "      <td>ASY</td>\n",
       "      <td>138</td>\n",
       "      <td>214</td>\n",
       "      <td>0</td>\n",
       "      <td>Normal</td>\n",
       "      <td>108</td>\n",
       "      <td>Y</td>\n",
       "      <td>1.5</td>\n",
       "      <td>Flat</td>\n",
       "      <td>1</td>\n",
       "    </tr>\n",
       "    <tr>\n",
       "      <th>4</th>\n",
       "      <td>54</td>\n",
       "      <td>M</td>\n",
       "      <td>NAP</td>\n",
       "      <td>150</td>\n",
       "      <td>195</td>\n",
       "      <td>0</td>\n",
       "      <td>Normal</td>\n",
       "      <td>122</td>\n",
       "      <td>N</td>\n",
       "      <td>0.0</td>\n",
       "      <td>Up</td>\n",
       "      <td>0</td>\n",
       "    </tr>\n",
       "  </tbody>\n",
       "</table>\n",
       "</div>"
      ],
      "text/plain": [
       "   Age Sex ChestPainType  RestingBP  Cholesterol  FastingBS RestingECG  MaxHR  \\\n",
       "0   40   M           ATA        140          289          0     Normal    172   \n",
       "1   49   F           NAP        160          180          0     Normal    156   \n",
       "2   37   M           ATA        130          283          0         ST     98   \n",
       "3   48   F           ASY        138          214          0     Normal    108   \n",
       "4   54   M           NAP        150          195          0     Normal    122   \n",
       "\n",
       "  ExerciseAngina  Oldpeak ST_Slope  HeartDisease  \n",
       "0              N      0.0       Up             0  \n",
       "1              N      1.0     Flat             1  \n",
       "2              N      0.0       Up             0  \n",
       "3              Y      1.5     Flat             1  \n",
       "4              N      0.0       Up             0  "
      ]
     },
     "execution_count": 169,
     "metadata": {},
     "output_type": "execute_result"
    }
   ],
   "source": [
    "df = pd.read_csv('heart.csv')\n",
    "df.head()"
   ]
  },
  {
   "cell_type": "code",
   "execution_count": 170,
   "metadata": {},
   "outputs": [
    {
     "data": {
      "text/html": [
       "<div>\n",
       "<style scoped>\n",
       "    .dataframe tbody tr th:only-of-type {\n",
       "        vertical-align: middle;\n",
       "    }\n",
       "\n",
       "    .dataframe tbody tr th {\n",
       "        vertical-align: top;\n",
       "    }\n",
       "\n",
       "    .dataframe thead th {\n",
       "        text-align: right;\n",
       "    }\n",
       "</style>\n",
       "<table border=\"1\" class=\"dataframe\">\n",
       "  <thead>\n",
       "    <tr style=\"text-align: right;\">\n",
       "      <th></th>\n",
       "      <th>Age</th>\n",
       "      <th>RestingBP</th>\n",
       "      <th>Cholesterol</th>\n",
       "      <th>MaxHR</th>\n",
       "      <th>Oldpeak</th>\n",
       "      <th>Sex_F</th>\n",
       "      <th>Sex_M</th>\n",
       "      <th>ChestPainType_ASY</th>\n",
       "      <th>ChestPainType_ATA</th>\n",
       "      <th>ChestPainType_NAP</th>\n",
       "      <th>...</th>\n",
       "      <th>FastingBS_1</th>\n",
       "      <th>RestingECG_LVH</th>\n",
       "      <th>RestingECG_Normal</th>\n",
       "      <th>RestingECG_ST</th>\n",
       "      <th>ExerciseAngina_N</th>\n",
       "      <th>ExerciseAngina_Y</th>\n",
       "      <th>ST_Slope_Down</th>\n",
       "      <th>ST_Slope_Flat</th>\n",
       "      <th>ST_Slope_Up</th>\n",
       "      <th>HeartDisease</th>\n",
       "    </tr>\n",
       "  </thead>\n",
       "  <tbody>\n",
       "    <tr>\n",
       "      <th>0</th>\n",
       "      <td>40</td>\n",
       "      <td>140</td>\n",
       "      <td>289</td>\n",
       "      <td>172</td>\n",
       "      <td>0.0</td>\n",
       "      <td>0</td>\n",
       "      <td>1</td>\n",
       "      <td>0</td>\n",
       "      <td>1</td>\n",
       "      <td>0</td>\n",
       "      <td>...</td>\n",
       "      <td>0</td>\n",
       "      <td>0</td>\n",
       "      <td>1</td>\n",
       "      <td>0</td>\n",
       "      <td>1</td>\n",
       "      <td>0</td>\n",
       "      <td>0</td>\n",
       "      <td>0</td>\n",
       "      <td>1</td>\n",
       "      <td>0</td>\n",
       "    </tr>\n",
       "    <tr>\n",
       "      <th>1</th>\n",
       "      <td>49</td>\n",
       "      <td>160</td>\n",
       "      <td>180</td>\n",
       "      <td>156</td>\n",
       "      <td>1.0</td>\n",
       "      <td>1</td>\n",
       "      <td>0</td>\n",
       "      <td>0</td>\n",
       "      <td>0</td>\n",
       "      <td>1</td>\n",
       "      <td>...</td>\n",
       "      <td>0</td>\n",
       "      <td>0</td>\n",
       "      <td>1</td>\n",
       "      <td>0</td>\n",
       "      <td>1</td>\n",
       "      <td>0</td>\n",
       "      <td>0</td>\n",
       "      <td>1</td>\n",
       "      <td>0</td>\n",
       "      <td>1</td>\n",
       "    </tr>\n",
       "    <tr>\n",
       "      <th>2</th>\n",
       "      <td>37</td>\n",
       "      <td>130</td>\n",
       "      <td>283</td>\n",
       "      <td>98</td>\n",
       "      <td>0.0</td>\n",
       "      <td>0</td>\n",
       "      <td>1</td>\n",
       "      <td>0</td>\n",
       "      <td>1</td>\n",
       "      <td>0</td>\n",
       "      <td>...</td>\n",
       "      <td>0</td>\n",
       "      <td>0</td>\n",
       "      <td>0</td>\n",
       "      <td>1</td>\n",
       "      <td>1</td>\n",
       "      <td>0</td>\n",
       "      <td>0</td>\n",
       "      <td>0</td>\n",
       "      <td>1</td>\n",
       "      <td>0</td>\n",
       "    </tr>\n",
       "    <tr>\n",
       "      <th>3</th>\n",
       "      <td>48</td>\n",
       "      <td>138</td>\n",
       "      <td>214</td>\n",
       "      <td>108</td>\n",
       "      <td>1.5</td>\n",
       "      <td>1</td>\n",
       "      <td>0</td>\n",
       "      <td>1</td>\n",
       "      <td>0</td>\n",
       "      <td>0</td>\n",
       "      <td>...</td>\n",
       "      <td>0</td>\n",
       "      <td>0</td>\n",
       "      <td>1</td>\n",
       "      <td>0</td>\n",
       "      <td>0</td>\n",
       "      <td>1</td>\n",
       "      <td>0</td>\n",
       "      <td>1</td>\n",
       "      <td>0</td>\n",
       "      <td>1</td>\n",
       "    </tr>\n",
       "    <tr>\n",
       "      <th>4</th>\n",
       "      <td>54</td>\n",
       "      <td>150</td>\n",
       "      <td>195</td>\n",
       "      <td>122</td>\n",
       "      <td>0.0</td>\n",
       "      <td>0</td>\n",
       "      <td>1</td>\n",
       "      <td>0</td>\n",
       "      <td>0</td>\n",
       "      <td>1</td>\n",
       "      <td>...</td>\n",
       "      <td>0</td>\n",
       "      <td>0</td>\n",
       "      <td>1</td>\n",
       "      <td>0</td>\n",
       "      <td>1</td>\n",
       "      <td>0</td>\n",
       "      <td>0</td>\n",
       "      <td>0</td>\n",
       "      <td>1</td>\n",
       "      <td>0</td>\n",
       "    </tr>\n",
       "  </tbody>\n",
       "</table>\n",
       "<p>5 rows × 22 columns</p>\n",
       "</div>"
      ],
      "text/plain": [
       "   Age  RestingBP  Cholesterol  MaxHR  Oldpeak  Sex_F  Sex_M  \\\n",
       "0   40        140          289    172      0.0      0      1   \n",
       "1   49        160          180    156      1.0      1      0   \n",
       "2   37        130          283     98      0.0      0      1   \n",
       "3   48        138          214    108      1.5      1      0   \n",
       "4   54        150          195    122      0.0      0      1   \n",
       "\n",
       "   ChestPainType_ASY  ChestPainType_ATA  ChestPainType_NAP  ...  FastingBS_1  \\\n",
       "0                  0                  1                  0  ...            0   \n",
       "1                  0                  0                  1  ...            0   \n",
       "2                  0                  1                  0  ...            0   \n",
       "3                  1                  0                  0  ...            0   \n",
       "4                  0                  0                  1  ...            0   \n",
       "\n",
       "   RestingECG_LVH  RestingECG_Normal  RestingECG_ST  ExerciseAngina_N  \\\n",
       "0               0                  1              0                 1   \n",
       "1               0                  1              0                 1   \n",
       "2               0                  0              1                 1   \n",
       "3               0                  1              0                 0   \n",
       "4               0                  1              0                 1   \n",
       "\n",
       "   ExerciseAngina_Y  ST_Slope_Down  ST_Slope_Flat  ST_Slope_Up  HeartDisease  \n",
       "0                 0              0              0            1             0  \n",
       "1                 0              0              1            0             1  \n",
       "2                 0              0              0            1             0  \n",
       "3                 1              0              1            0             1  \n",
       "4                 0              0              0            1             0  \n",
       "\n",
       "[5 rows x 22 columns]"
      ]
     },
     "execution_count": 170,
     "metadata": {},
     "output_type": "execute_result"
    }
   ],
   "source": [
    "NoCatList = ['Sex', 'ChestPainType', 'FastingBS', 'RestingECG', 'ExerciseAngina', 'ST_Slope']\n",
    "df = pd.get_dummies(df, columns=NoCatList)\n",
    "temp = df.pop('HeartDisease')\n",
    "df.insert(loc=df.shape[1], column='HeartDisease', value=temp, allow_duplicates=False)\n",
    "df.head()"
   ]
  },
  {
   "cell_type": "code",
   "execution_count": 171,
   "metadata": {},
   "outputs": [],
   "source": [
    "df = df.sample(frac=1)\n",
    "# 前800个数据为训练集\n",
    "TrainX = df.values[:800, :-1]\n",
    "TrainY = df.values[:800, -1]\n",
    "# 后118个数据为测试集\n",
    "TestX = df.values[800:, :-1]\n",
    "TestY = df.values[800:, -1]"
   ]
  },
  {
   "cell_type": "code",
   "execution_count": 172,
   "metadata": {},
   "outputs": [],
   "source": [
    "clf = LogisticReg()\n",
    "clf.fit(TrainX, TrainY)\n",
    "PreY, ProbY = clf.predict(TestX, return_Prob=True)"
   ]
  },
  {
   "cell_type": "code",
   "execution_count": 173,
   "metadata": {},
   "outputs": [
    {
     "data": {
      "text/plain": [
       "{'TP': 47,\n",
       " 'FP': 10,\n",
       " 'FN': 11,\n",
       " 'TN': 50,\n",
       " 'Accuracy': 0.8220338983050848,\n",
       " 'Precision': 0.8245614035087719,\n",
       " 'Recall': 0.8103448275862069,\n",
       " 'F1': 0.8173913043478261}"
      ]
     },
     "execution_count": 173,
     "metadata": {},
     "output_type": "execute_result"
    }
   ],
   "source": [
    "mc.singleMetics(PreY, TestY)"
   ]
  },
  {
   "cell_type": "code",
   "execution_count": 174,
   "metadata": {},
   "outputs": [
    {
     "data": {
      "image/png": "[encoded data removed]",
      "text/plain": [
       "<Figure size 432x288 with 1 Axes>"
      ]
     },
     "metadata": {
      "needs_background": "light"
     },
     "output_type": "display_data"
    }
   ],
   "source": [
    "mc.PRcurve(ProbY, TestY, plot=True);"
   ]
  },
  {
   "cell_type": "code",
   "execution_count": 175,
   "metadata": {},
   "outputs": [
    {
     "data": {
      "text/plain": [
       "0.9031788181427135"
      ]
     },
     "execution_count": 175,
     "metadata": {},
     "output_type": "execute_result"
    }
   ],
   "source": [
    "mc.AP(ProbY, TestY)"
   ]
  },
  {
   "cell_type": "code",
   "execution_count": 176,
   "metadata": {},
   "outputs": [
    {
     "data": {
      "text/plain": [
       "0.8103448275862069"
      ]
     },
     "execution_count": 176,
     "metadata": {},
     "output_type": "execute_result"
    }
   ],
   "source": [
    "mc.BEP(ProbY, TestY)"
   ]
  },
  {
   "cell_type": "code",
   "execution_count": 177,
   "metadata": {},
   "outputs": [
    {
     "data": {
      "image/png": "[encoded data removed]",
      "text/plain": [
       "<Figure size 432x288 with 1 Axes>"
      ]
     },
     "metadata": {
      "needs_background": "light"
     },
     "output_type": "display_data"
    }
   ],
   "source": [
    "mc.ROCcurve(ProbY, TestY, plot=True);"
   ]
  },
  {
   "cell_type": "code",
   "execution_count": 178,
   "metadata": {},
   "outputs": [
    {
     "data": {
      "text/plain": [
       "0.903652574058096"
      ]
     },
     "execution_count": 178,
     "metadata": {},
     "output_type": "execute_result"
    }
   ],
   "source": [
    "mc.AUC(ProbY, TestY)"
   ]
  },
  {
   "cell_type": "markdown",
   "metadata": {},
   "source": [
    "## Sklearn\n",
    "\n",
    "<https://scikit-learn.org/stable/modules/generated/sklearn.linear_model.LogisticRegression.html>"
   ]
  },
  {
   "cell_type": "code",
   "execution_count": 179,
   "metadata": {
    "ExecuteTime": {
     "end_time": "2019-11-10T07:32:04.455662Z",
     "start_time": "2019-11-10T07:32:04.440146Z"
    }
   },
   "outputs": [
    {
     "name": "stdout",
     "output_type": "stream",
     "text": [
      "预测准确率： 0.8135593220338984\n"
     ]
    }
   ],
   "source": [
    "from sklearn.linear_model import LogisticRegression\n",
    "clf = LogisticRegression(solver='liblinear').fit(TrainX, TrainY)\n",
    "print('预测准确率：',clf.score(TestX, TestY))"
   ]
  }
 ],
 "metadata": {
  "interpreter": {
   "hash": "130c8debc30394ace5b4caaeb25a51c042f5659d8817acb6f9c4eb3416a9be0e"
  },
  "kernelspec": {
   "display_name": "Study",
   "language": "python",
   "name": "python3"
  },
  "language_info": {
   "codemirror_mode": {
    "name": "ipython",
    "version": 3
   },
   "file_extension": ".py",
   "mimetype": "text/x-python",
   "name": "python",
   "nbconvert_exporter": "python",
   "pygments_lexer": "ipython3",
   "version": "3.9.7"
  },
  "toc": {
   "base_numbering": 1,
   "nav_menu": {},
   "number_sections": true,
   "sideBar": true,
   "skip_h1_title": false,
   "title_cell": "Table of Contents",
   "title_sidebar": "Contents",
   "toc_cell": false,
   "toc_position": {},
   "toc_section_display": true,
   "toc_window_display": false
  },
  "varInspector": {
   "cols": {
    "lenName": 16,
    "lenType": 16,
    "lenVar": 40
   },
   "kernels_config": {
    "python": {
     "delete_cmd_postfix": "",
     "delete_cmd_prefix": "del ",
     "library": "var_list.py",
     "varRefreshCmd": "print(var_dic_list())"
    },
    "r": {
     "delete_cmd_postfix": ") ",
     "delete_cmd_prefix": "rm(",
     "library": "var_list.r",
     "varRefreshCmd": "cat(var_dic_list()) "
    }
   },
   "types_to_exclude": [
    "module",
    "function",
    "builtin_function_or_method",
    "instance",
    "_Feature"
   ],
   "window_display": false
  },
  "widgets": {
   "application/vnd.jupyter.widget-state+json": {
    "state": {},
    "version_major": 2,
    "version_minor": 0
   }
  }
 },
 "nbformat": 4,
 "nbformat_minor": 4
}
