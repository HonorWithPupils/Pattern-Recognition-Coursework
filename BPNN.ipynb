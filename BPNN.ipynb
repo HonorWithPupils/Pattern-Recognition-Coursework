{
 "cells": [
  {
   "cell_type": "markdown",
   "id": "a923316e-48d7-4bba-9932-a145711f40be",
   "metadata": {},
   "source": [
    "# BP Neural Network\n",
    "Back Propagation Neural Network"
   ]
  },
  {
   "cell_type": "markdown",
   "id": "fc08d51a-23ed-4abd-bb06-c16da9a7f0ab",
   "metadata": {
    "tags": []
   },
   "source": [
    "## Model\n",
    "一个全连接的神经网络"
   ]
  },
  {
   "cell_type": "markdown",
   "id": "8e4cec38-82a7-4f26-95ab-2ee6680cc948",
   "metadata": {},
   "source": [
    "输入为：\n",
    "$$\\def\\bm{\\boldsymbol} \\bm x=(x_1,...,x_n)^T$$\n",
    "\n",
    "输出为：\n",
    "$$\\bm y=(y_1,...,y_n)^T$$\n",
    "\n",
    "中间变量：\n",
    "$$\\bm u^{(i)}=(u_1^{(i)},...,u_n^{(i)})^T$$\n",
    "\n",
    "\n",
    "$$\\bm z^{(i)}=(z_1^{(i)},...,z_n^{(i)})^T$$\n",
    "\n",
    "ReLu（非线性函数）：\n",
    "$$ f(x)=\n",
    "\\begin{cases} \n",
    "x,  & \\text{if }x\\ge 0 \\\\\n",
    "0, & \\text{if }x<0\n",
    "\\end{cases}\n",
    "$$"
   ]
  },
  {
   "cell_type": "markdown",
   "id": "59c10ee4-3744-4b49-8919-5c8b85ee4d07",
   "metadata": {},
   "source": [
    "Forward Pass 前向传播：\n",
    "$$\n",
    "\\begin{align}\n",
    "\\bm u^{(1)} &= W^{(1)}\\bm x \\\\ \\\\\n",
    "\\bm z^{(1)} &= f(u^{(1)}) \\\\ \\\\\n",
    "\\bm u^{(i)} &= W^{(i)}\\bm z^{(i-1)} \\\\ \\\\\n",
    "\\bm z^{(i)} &= f(u^{(i)}) \\\\ \\\\\n",
    "y &= W^{(m+1)} \\bm z^{(m)}\n",
    "\\end{align}\n",
    "$$\n",
    "注意：这里为了推导便利省略了常数项"
   ]
  },
  {
   "cell_type": "markdown",
   "id": "be05a45d-0bcc-46db-8fa2-3e29360b975e",
   "metadata": {},
   "source": [
    "## Strategy"
   ]
  },
  {
   "cell_type": "markdown",
   "id": "ef489dc9-7844-433c-8251-7e3e84696f19",
   "metadata": {},
   "source": [
    "Loss Function 损失函数：\n",
    "\n",
    "均方误差函数：\n",
    "\n",
    "$$\n",
    "Loss_{MSE}(y,y_{true}) = (y-y_{true})^2\n",
    "$$"
   ]
  },
  {
   "cell_type": "markdown",
   "id": "4a85cb6f-114b-4204-bd10-5143bfa6d73a",
   "metadata": {},
   "source": [
    "## Algorithm"
   ]
  },
  {
   "cell_type": "markdown",
   "id": "54d62d84-5a3c-471a-8e8d-e040ab6fa074",
   "metadata": {},
   "source": [
    "Back Pass 反向传播：\n",
    "$$\n",
    "\\frac{dLoss_{MSE}}{dy} = (y-y_{true})\n",
    "$$\n",
    "\n",
    "$$\n",
    "\\frac{dy}{dW^{(m+1)}} = {z^{(m)}}^T \n",
    "$$\n",
    "\n",
    "$$\n",
    "\\frac{dy}{d\\bm z^{(m)}} = {W^{(m+1)}}^T\n",
    "$$"
   ]
  },
  {
   "cell_type": "markdown",
   "id": "887f9cbc-c580-4651-8d6f-fbe5022bd2c9",
   "metadata": {},
   "source": [
    "$$\n",
    "\\frac{d\\bm z^{(i)}}{du^{(i)}} =\n",
    "\\begin{cases} \n",
    "1,  & \\text{if }u^{(i)}\\ge 0 \\\\\n",
    "0, & \\text{if }u^{(i)}<0\n",
    "\\end{cases}\n",
    "$$"
   ]
  },
  {
   "cell_type": "markdown",
   "id": "e000f6d6-5951-4c63-9ae9-53ac8bd107ac",
   "metadata": {},
   "source": [
    "$$\n",
    "\\frac {d\\bm u^{(i)}} {dW^{(i)}} = {z^{(i-1)}}^T\n",
    "$$\n",
    "\n",
    "$$\n",
    "\\frac {d\\bm u^{(i)}} {dz^{(i-1)}} = {W^{(i)}}^T\n",
    "$$"
   ]
  },
  {
   "cell_type": "markdown",
   "id": "e0ca6ad9-8528-4eb0-99f1-3cc4837c8cf1",
   "metadata": {
    "tags": []
   },
   "source": [
    "## 实现: 用 numpy 编写双层神经网络"
   ]
  },
  {
   "cell_type": "markdown",
   "id": "2c438a2b-050c-450f-9b29-55c0c352febe",
   "metadata": {
    "tags": []
   },
   "source": [
    "一个全连接ReLu神经网络，一个隐藏层，没有bias，用来从x预测y，使用RMSE loss\n",
    "\n",
    "* $u=\\omega_1 X$\n",
    "\n",
    "* $z=max(0,h)$\n",
    "\n",
    "* $y_{pre}=\\omega_2 z$\n",
    "\n",
    "这一实现完全使用numpy手动完成以下三个步骤\n",
    "\n",
    "* Foward pass 前向传播\n",
    "\n",
    "* Loss 损失函数\n",
    "\n",
    "* backward pass 反向传播"
   ]
  },
  {
   "cell_type": "code",
   "execution_count": 7,
   "id": "5c78a609-f6da-4adb-93ba-788ee397b910",
   "metadata": {},
   "outputs": [],
   "source": [
    "import numpy as np\n",
    "import matplotlib.pyplot as plt\n",
    "import tqdm"
   ]
  },
  {
   "cell_type": "code",
   "execution_count": 59,
   "id": "d62de12a-b62d-40c3-a533-4b9c1c2efc51",
   "metadata": {},
   "outputs": [],
   "source": [
    "N , D_in, H, D_out = 100, 3, 30, 1\n",
    "\n",
    "# 训练集 y=✔x1^2+x2^2+x3^2\n",
    "X = np.random.randn(N, D_in)\n",
    "Y = np.sqrt(X[:,0]**2+X[:,1]**2+X[:,2]**2).reshape(N, D_out)"
   ]
  },
  {
   "cell_type": "code",
   "execution_count": 60,
   "id": "7b093637-efc0-422b-8774-fe1f93345b16",
   "metadata": {},
   "outputs": [],
   "source": [
    "# 参数层\n",
    "w1 = np.random.randn(D_in, H)\n",
    "w2 = np.random.randn(H, D_out)"
   ]
  },
  {
   "cell_type": "code",
   "execution_count": 61,
   "id": "7edc2cd8-1bee-4f12-aa93-5933e6b44b8c",
   "metadata": {},
   "outputs": [
    {
     "name": "stderr",
     "output_type": "stream",
     "text": [
      " 31%|█████████████████████▋                                               | 1568548/5000000 [01:00<02:12, 25882.30it/s]\n"
     ]
    }
   ],
   "source": [
    "lr = 1e-4\n",
    "lossList = []\n",
    "for t in tqdm.trange(int(5e6)):\n",
    "    # Forward pass\n",
    "    u = X.dot(w1)\n",
    "    z = np.maximum(u,0)\n",
    "    y_pre = z.dot(w2)\n",
    "    \n",
    "    # Loss\n",
    "    loss = ((y_pre - Y)**2).sum()/N/2\n",
    "    if loss < 1e-3:\n",
    "        break\n",
    "    if t%10000 == 0:\n",
    "        lossList.append(loss)\n",
    "    \n",
    "    # Backward pass : compute the gradient\n",
    "    grad_y_pre = 1/N*(y_pre-Y)\n",
    "    grad_w2 = z.T.dot(grad_y_pre)\n",
    "    grad_z = grad_y_pre.dot(w2.T)\n",
    "    grad_u = np.where(u>0, grad_z, 0)\n",
    "    grad_w1 = X.T.dot(grad_u)\n",
    "    \n",
    "    # update weights of w1 and w2\n",
    "    w1 -= lr * grad_w1\n",
    "    w2 -= lr * grad_w2"
   ]
  },
  {
   "cell_type": "code",
   "execution_count": 62,
   "id": "acd7608f-38c8-47c2-b4ed-96438d7b962e",
   "metadata": {},
   "outputs": [
    {
     "data": {
      "image/png": "[encoded data removed]",
      "text/plain": [
       "<Figure size 432x288 with 1 Axes>"
      ]
     },
     "metadata": {
      "needs_background": "light"
     },
     "output_type": "display_data"
    }
   ],
   "source": [
    "fig = plt.figure()\n",
    "plt.plot(lossList[5:])\n",
    "plt.xlabel('Iter')\n",
    "plt.ylabel('Loss');"
   ]
  }
 ],
 "metadata": {
  "kernelspec": {
   "display_name": "Study",
   "language": "python",
   "name": "study"
  },
  "language_info": {
   "codemirror_mode": {
    "name": "ipython",
    "version": 3
   },
   "file_extension": ".py",
   "mimetype": "text/x-python",
   "name": "python",
   "nbconvert_exporter": "python",
   "pygments_lexer": "ipython3",
   "version": "3.9.7"
  },
  "widgets": {
   "application/vnd.jupyter.widget-state+json": {
    "state": {},
    "version_major": 2,
    "version_minor": 0
   }
  }
 },
 "nbformat": 4,
 "nbformat_minor": 5
}
