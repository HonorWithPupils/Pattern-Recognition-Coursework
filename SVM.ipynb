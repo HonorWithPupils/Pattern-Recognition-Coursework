{
 "cells": [
  {
   "cell_type": "markdown",
   "metadata": {},
   "source": [
    "# SVM"
   ]
  },
  {
   "cell_type": "markdown",
   "metadata": {},
   "source": [
    "## Model: \n",
    "$$ y=sign(w\\cdot x+b)$$"
   ]
  },
  {
   "cell_type": "markdown",
   "metadata": {
    "tags": []
   },
   "source": [
    "## Strategy: Margin maximization"
   ]
  },
  {
   "cell_type": "markdown",
   "metadata": {},
   "source": [
    "### 原始问题"
   ]
  },
  {
   "cell_type": "markdown",
   "metadata": {},
   "source": [
    "点到函数的距离：\n",
    "$$\n",
    "l=\\frac{y(w\\cdot x+b)}{||w||}\n",
    "$$"
   ]
  },
  {
   "cell_type": "markdown",
   "metadata": {},
   "source": [
    "最大最小距离（间隔）：\n",
    "$$\n",
    "\\max_{w,b} \\min_i \\frac{y(w\\cdot x_i+b)}{||w||} \\newline\n",
    "s.t. y_i (w\\cdot x_i +b)\\geq 0\n",
    "$$"
   ]
  },
  {
   "cell_type": "markdown",
   "metadata": {},
   "source": [
    "定义以下变量：\n",
    "$$\n",
    "\\lambda = \\min_i {y(w\\cdot x_i+b)}\n",
    "$$"
   ]
  },
  {
   "cell_type": "markdown",
   "metadata": {},
   "source": [
    "带入问题，得到：\n",
    "$$\n",
    "\\max_{w,b} \\frac{\\lambda}{||w||} \\newline\n",
    "s.t. y_i (w\\cdot x_i +b)\\geq \\lambda\n",
    "$$"
   ]
  },
  {
   "cell_type": "markdown",
   "metadata": {},
   "source": [
    "做一下替换 $w \\leftarrow \\frac{w}{\\lambda}\\ \\ b \\leftarrow \\frac{b}{\\lambda}$ 得到\n",
    "$$\n",
    "\\max_{w,b} \\frac{1}{||w||} \\newline\n",
    "s.t. y_i (w\\cdot x_i +b)\\geq 1\n",
    "$$"
   ]
  },
  {
   "cell_type": "markdown",
   "metadata": {},
   "source": [
    "转换为最小值问题：\n",
    "$$\n",
    "\\min_{w,b} \\ \\frac {1}{2}||w||^2\\newline\n",
    "s.t. \\ \\ y_i (w\\cdot x_i +b)\\geq 1\n",
    "$$"
   ]
  },
  {
   "cell_type": "markdown",
   "metadata": {
    "tags": []
   },
   "source": [
    "### 对偶问题"
   ]
  },
  {
   "cell_type": "markdown",
   "metadata": {},
   "source": [
    "构造拉格朗日函数\n",
    "\n",
    "$$\n",
    "L(w,b,a)=\\frac {1}{2}||w||^2+\\sum_{i=1}^N{a_i[1-y_i (w\\cdot x_i +b)]}\\quad a_i>0\n",
    "$$"
   ]
  },
  {
   "cell_type": "markdown",
   "metadata": {},
   "source": [
    "根据拉格朗日对偶性，将最小最大问题转化为最大最小问题\n",
    "\n",
    "$$\n",
    "\\max_{a\\geq0}L(w,b,a)=\n",
    "\\begin{cases}\n",
    "\\frac {1}{2}||w||^2 & \\text{$w,b$ 满足约束}\\newline\n",
    "+\\infty &\\text{$w,b$ 不满足约束}\n",
    "\\end{cases}\n",
    "$$\n",
    "\n",
    "\n",
    "$$\n",
    "{w,b}=arg\\min_{w,b}\\max_{a\\geq0}L(w,b,a)=arg\\max_{a\\geq0}\\min_{w,b}L(w,b,a)\n",
    "$$"
   ]
  },
  {
   "cell_type": "markdown",
   "metadata": {},
   "source": [
    "$L(w,b,a)$分别对${w,b}$求导\n",
    "\n",
    "$$\n",
    "\\nabla_w {L(w,b,a)}=w-\\sum_{i=0}^N{a_iy_ix_i}=0\\newline\n",
    "\\nabla_b {L(w,b,a)}=-\\sum_{i=0}^N{a_iy_i}=0\n",
    "$$"
   ]
  },
  {
   "cell_type": "markdown",
   "metadata": {},
   "source": [
    "得\n",
    "$$\n",
    "w=\\sum_{i=0}^N{a_iy_ix_i}\\newline\n",
    "\\sum_{i=0}^N{a_iy_i}=0\n",
    "$$"
   ]
  },
  {
   "cell_type": "markdown",
   "metadata": {},
   "source": [
    "带回$L(w,b,a)$，得\n",
    "$$\n",
    "\\min_{w,b} {L(w,b,a)}=-\\frac 12 \\sum_{i=0}^N \\sum_{j=0}^N a_i a_j y_i y_j( x_i\\cdot x_j )+\\sum_{i=0}^N a_i\n",
    "$$"
   ]
  },
  {
   "cell_type": "markdown",
   "metadata": {},
   "source": [
    "即得原问题的对偶问题\n",
    "$$\n",
    "\\min_{a}\\quad \\frac 12 \\sum_{i=0}^N \\sum_{j=0}^N a_i a_j y_i y_j( x_i\\cdot x_j )-\\sum_{i=0}^N a_i\\newline\n",
    "s.t.\\quad \\sum_{i=0}^N{a_iy_i}=0\\newline\n",
    "a_i\\geq0\n",
    "$$"
   ]
  },
  {
   "cell_type": "markdown",
   "metadata": {},
   "source": [
    "必有两个以上$a_j>0$，即支持向量，原问题最优解如下\n",
    "$$\n",
    "w^*=\\sum_{i=0}^N{a_i^*y_ix_i}\n",
    "$$"
   ]
  },
  {
   "cell_type": "markdown",
   "metadata": {},
   "source": [
    "将上式代入 $y_j(w^*\\cdot x_j+b^*)=1$"
   ]
  },
  {
   "cell_type": "markdown",
   "metadata": {},
   "source": [
    "$$\n",
    "\\begin{aligned}\n",
    "b^* &= y_i - w^*\\cdot x_j \\newline\n",
    "&= y_j-\\sum_{i=0}^N{a_i^*y_i(x_i\\cdot x_j)}\n",
    "\\end{aligned}\n",
    "$$"
   ]
  },
  {
   "cell_type": "markdown",
   "metadata": {
    "tags": []
   },
   "source": [
    "## Algorithm: 带约束的线性优化器"
   ]
  },
  {
   "cell_type": "markdown",
   "metadata": {},
   "source": [
    "## 实现"
   ]
  },
  {
   "cell_type": "code",
   "execution_count": 1,
   "metadata": {
    "ExecuteTime": {
     "end_time": "2019-11-10T05:45:40.794002Z",
     "start_time": "2019-11-10T05:45:39.372765Z"
    }
   },
   "outputs": [],
   "source": [
    "import numpy as np\n",
    "import matplotlib.pyplot as plt"
   ]
  },
  {
   "cell_type": "code",
   "execution_count": 2,
   "metadata": {
    "ExecuteTime": {
     "end_time": "2019-11-10T05:45:42.578022Z",
     "start_time": "2019-11-10T05:45:42.558893Z"
    },
    "code_folding": [
     0
    ]
   },
   "outputs": [
    {
     "data": {
      "image/png": "[encoded data removed]",
      "text/plain": [
       "<Figure size 432x288 with 1 Axes>"
      ]
     },
     "metadata": {
      "needs_background": "light"
     },
     "output_type": "display_data"
    }
   ],
   "source": [
    "# 制作数据集\n",
    "x = np.random.randn(40,2) * 10\n",
    "x = x[(x[:, 0] * 2 + x[:, 1] < -3) | (x[:, 0] * 2 + x[:, 1] > 3), :]\n",
    "y = ((x[:, 0] * 2 + x[:, 1]) >= 0)*2-1\n",
    "y = y.reshape(-1,1)\n",
    "N = len(y)\n",
    "\n",
    "fig = plt.figure()\n",
    "plt.scatter(x[y.reshape(-1) == 1, 0], x[y.reshape(-1) == 1, 1])\n",
    "plt.scatter(x[y.reshape(-1) == -1, 0], x[y.reshape(-1) == -1, 1]);"
   ]
  },
  {
   "cell_type": "code",
   "execution_count": 3,
   "metadata": {
    "ExecuteTime": {
     "end_time": "2019-11-10T05:45:48.648072Z",
     "start_time": "2019-11-10T05:45:48.368667Z"
    }
   },
   "outputs": [
    {
     "name": "stdout",
     "output_type": "stream",
     "text": [
      "最小值： -0.16414765207839163\n",
      "最优解：\n",
      " [ 7.15229100e-15  1.25279797e-14  1.94305755e-14  1.82130876e-14\n",
      "  7.22195021e-15  3.10017365e-15 -1.02511334e-14 -1.27530384e-14\n",
      " -4.42652061e-16  1.33251839e-14  2.51214805e-15 -1.17762621e-14\n",
      "  1.66675255e-14  1.11206519e-14  1.30671947e-16  1.41509648e-14\n",
      " -2.79898796e-14 -1.39004334e-16  6.96503287e-15  9.79829338e-14\n",
      "  7.60175219e-15  8.26375836e-15  4.35026368e-15  1.64031845e-01\n",
      "  1.95984399e-14  1.54590382e-14  1.95544916e-14  5.22216086e-15\n",
      "  1.62938693e-02 -9.36122996e-15  4.14109129e-15  1.47737976e-01\n",
      "  2.86557079e-15  1.28190397e-14  4.50252965e-15 -1.93787544e-14\n",
      " -4.70693640e-16]\n",
      "迭代终止是否成功： True\n",
      "迭代终止原因： Optimization terminated successfully\n"
     ]
    }
   ],
   "source": [
    "from scipy.optimize import minimize  # 导入最小化算法\n",
    "\n",
    "def fun(a):  # 目标函数\n",
    "    # 莫名其妙 minimize 传进参数会被拉成一维向量\n",
    "    temp = a.reshape(-1,1) * y * x  # N*n\n",
    "    return 0.5 * (np.dot(temp, temp.T)).sum() - a.sum()\n",
    "\n",
    "# 约束\n",
    "cons = [{\"type\": \"eq\", \"fun\": lambda a: (a.reshape(-1, 1) * y).sum()}]  # sum(aiyi)==0\n",
    "cons += [{\"type\": \"ineq\", \"fun\": lambda a, i=i: a[i]} for i in range(len(y))]  # ai>=0\n",
    "# i=i 不可缺少\n",
    "\n",
    "a0 = np.ones(y.shape)  # 设置初始值\n",
    "res = minimize(fun, a0, method=\"SLSQP\", constraints=cons)\n",
    "print(\"最小值：\", res.fun)\n",
    "print(\"最优解：\\n\", res.x)\n",
    "print(\"迭代终止是否成功：\", res.success)\n",
    "print(\"迭代终止原因：\", res.message)"
   ]
  },
  {
   "cell_type": "code",
   "execution_count": 4,
   "metadata": {
    "ExecuteTime": {
     "end_time": "2019-11-10T05:45:54.294626Z",
     "start_time": "2019-11-10T05:45:54.281031Z"
    }
   },
   "outputs": [
    {
     "name": "stdout",
     "output_type": "stream",
     "text": [
      "支持向量为:[23 28 31]\n",
      "w=[0.52522276 0.22797616]\n",
      "b=[-0.05253254]\n"
     ]
    }
   ],
   "source": [
    "a = res.x\n",
    "sv = np.where(abs(a) > 1e-2)[0]  # 支持向量\n",
    "w = (a.reshape(-1, 1)*y*x).sum(axis=0)\n",
    "b = y[sv[1]]-(a.reshape(N, 1)*y*np.dot(x, x[sv[1]].reshape(-1, 1))).sum()\n",
    "print(f'支持向量为:{sv}')\n",
    "print(f'w={w}')\n",
    "print(f'b={b}')"
   ]
  },
  {
   "cell_type": "code",
   "execution_count": 5,
   "metadata": {
    "ExecuteTime": {
     "end_time": "2019-11-10T05:46:21.990215Z",
     "start_time": "2019-11-10T05:46:21.976295Z"
    }
   },
   "outputs": [],
   "source": [
    "def defunc(x):\n",
    "    return np.sign(np.inner(w, x) + b)"
   ]
  },
  {
   "cell_type": "code",
   "execution_count": 10,
   "metadata": {
    "ExecuteTime": {
     "end_time": "2019-11-10T05:46:27.268380Z",
     "start_time": "2019-11-10T05:46:27.059130Z"
    }
   },
   "outputs": [
    {
     "data": {
      "image/png": "[encoded data removed]",
      "text/plain": [
       "<Figure size 432x288 with 1 Axes>"
      ]
     },
     "metadata": {
      "needs_background": "light"
     },
     "output_type": "display_data"
    }
   ],
   "source": [
    "fig = plt.figure()\n",
    "plt.scatter(x[y.reshape(-1) == 1, 0], x[y.reshape(-1) == 1, 1])\n",
    "plt.scatter(x[y.reshape(-1) == -1, 0], x[y.reshape(-1) == -1, 1]);\n",
    "plt.scatter(x[sv, 0], x[sv, 1]);\n",
    "x1 = np.array([-10,10])\n",
    "plt.plot(x1,(-w[0]*x1-b)/w[1], color='r');"
   ]
  },
  {
   "cell_type": "markdown",
   "metadata": {},
   "source": [
    "原问题优化结果，和对偶问题优化结果相同\n",
    "\n",
    "$$\\displaylines{\n",
    "{w,b}=arg\\min_{w,b} \\ \\frac {1}{2}||w||^2\\newline\n",
    "s.t \\ \\ y_i (w\\cdot x_i +b)\\geq 1\n",
    "}$$"
   ]
  },
  {
   "cell_type": "code",
   "execution_count": 7,
   "metadata": {
    "ExecuteTime": {
     "end_time": "2019-11-10T05:46:34.401097Z",
     "start_time": "2019-11-10T05:46:34.352899Z"
    }
   },
   "outputs": [
    {
     "name": "stdout",
     "output_type": "stream",
     "text": [
      "最小值： 0.16414773581050743\n",
      "最优解：\n",
      " [ 0.52561844  0.22808053 -0.05223059]\n",
      "迭代终止是否成功： True\n",
      "迭代终止原因： Optimization terminated successfully\n"
     ]
    }
   ],
   "source": [
    "def fun_o(wb): return 0.5*np.inner(wb[:-1], wb[:-1])\n",
    "\n",
    "\n",
    "# 约束\n",
    "cons_o = [{'type': 'ineq', 'fun':\n",
    "           lambda wb, i=i: y[i]*(np.inner(wb[:-1], x[i])+wb[-1])-1}\n",
    "          for i in range(N)]\n",
    "\n",
    "wb0 = np.array([2.1,1,0.1]) # 设置初始值\n",
    "res = minimize(fun_o, wb0, method='SLSQP', constraints=cons_o,)\n",
    "print('最小值：', res.fun)\n",
    "print('最优解：\\n', res.x)\n",
    "print('迭代终止是否成功：', res.success)\n",
    "print('迭代终止原因：', res.message)"
   ]
  },
  {
   "cell_type": "markdown",
   "metadata": {},
   "source": [
    "## SVM 线性不可分"
   ]
  },
  {
   "cell_type": "markdown",
   "metadata": {},
   "source": [
    "原问题加入松弛条件：\n",
    "$$\n",
    "\\min_{w,b} \\ \\frac {1}{2}||w||^2+C\\sum_{i=1}^N \\xi_i \\newline\n",
    "s.t. \\ \\ y_i (w\\cdot x_i +b)\\geq 1-\\xi_i\n",
    "$$"
   ]
  },
  {
   "cell_type": "markdown",
   "metadata": {},
   "source": [
    "对偶问题：\n",
    "$$\n",
    "\\min_{a}\\quad \\frac 12 \\sum_{i=0}^N \\sum_{j=0}^N a_i a_j y_i y_j( x_i\\cdot x_j )-\\sum_{i=0}^N a_i\\newline\n",
    "s.t.\\quad \\sum_{i=0}^N{a_iy_i}=0\\newline\n",
    "C\\geq a_i\\geq0\n",
    "$$\n"
   ]
  },
  {
   "cell_type": "code",
   "execution_count": null,
   "metadata": {},
   "outputs": [],
   "source": [
    "from scipy.optimize import minimize  # 导入最小化算法\n",
    "\n",
    "def fun(a):  # 目标函数\n",
    "    # 莫名其妙 minimize 传进参数会被拉成一维向量\n",
    "    temp = a.reshape(-1,1) * y * x  # N*n\n",
    "    return 0.5 * (np.dot(temp, temp.T)).sum() - a.sum()\n",
    "\n",
    "# 约束\n",
    "cons = [{\"type\": \"eq\", \"fun\": lambda a: (a.reshape(-1, 1) * y).sum()}]  # sum(aiyi)==0\n",
    "cons += [{\"type\": \"ineq\", \"fun\": lambda a, i=i: a[i]} for i in range(len(y))]  # ai>=0\n",
    "# i=i 不可缺少\n",
    "\n",
    "a0 = np.ones(y.shape)  # 设置初始值\n",
    "res = minimize(fun, a0, method=\"SLSQP\", constraints=cons)\n",
    "print(\"最小值：\", res.fun)\n",
    "print(\"最优解：\\n\", res.x)\n",
    "print(\"迭代终止是否成功：\", res.success)\n",
    "print(\"迭代终止原因：\", res.message)"
   ]
  },
  {
   "cell_type": "markdown",
   "metadata": {},
   "source": [
    "## Kernel SVM"
   ]
  },
  {
   "cell_type": "markdown",
   "metadata": {},
   "source": [
    "$$\n",
    "\\min_{a}\\quad \\frac 12 \\sum_{i=0}^N \\sum_{j=0}^N a_i a_j y_i y_j( x_i\\cdot x_j )-\\sum_{i=0}^N a_i\\newline\n",
    "s.t.\\quad \\sum_{i=0}^N{a_iy_i}=0\\newline\n",
    "C\\geq a_i\\geq0\n",
    "$$\n",
    "\n",
    "将对偶形式中的点积替换为核函数\n",
    "\n",
    "$$\n",
    "\\min_{a}\\quad \\frac 12 \\sum_{i=0}^N \\sum_{j=0}^N a_i a_j y_i y_j k (x_i,x_j)-\\sum_{i=0}^N a_i\\newline\n",
    "s.t.\\quad \\sum_{i=0}^N{a_iy_i}=0\\newline\n",
    "C\\geq a_i\\geq0\n",
    "$$"
   ]
  },
  {
   "cell_type": "code",
   "execution_count": 20,
   "metadata": {},
   "outputs": [],
   "source": [
    "from scipy.spatial.distance import pdist, squareform\n",
    "from sklearn import datasets"
   ]
  },
  {
   "cell_type": "code",
   "execution_count": 87,
   "metadata": {},
   "outputs": [],
   "source": [
    "x, y = datasets.make_moons(n_samples=200, noise=0.05)\n",
    "y = y * 2 - 1"
   ]
  },
  {
   "cell_type": "code",
   "execution_count": 88,
   "metadata": {},
   "outputs": [],
   "source": [
    "# 高斯核\n",
    "def GaussKernel(delta=1):\n",
    "    def GaussKernelF(x, y):\n",
    "        return np.exp(-((x-y)**2).sum()/(2*delta**2))\n",
    "    return GaussKernelF"
   ]
  },
  {
   "cell_type": "code",
   "execution_count": 89,
   "metadata": {},
   "outputs": [
    {
     "data": {
      "image/png": "[encoded data removed]",
      "text/plain": [
       "<Figure size 432x288 with 1 Axes>"
      ]
     },
     "metadata": {
      "needs_background": "light"
     },
     "output_type": "display_data"
    }
   ],
   "source": [
    "plt.scatter(x[y.reshape(-1) == 1, 0], x[y.reshape(-1) == 1, 1])\n",
    "plt.scatter(x[y.reshape(-1) == -1, 0], x[y.reshape(-1) == -1, 1]);"
   ]
  },
  {
   "cell_type": "code",
   "execution_count": 90,
   "metadata": {},
   "outputs": [
    {
     "name": "stdout",
     "output_type": "stream",
     "text": [
      "最小值： 10600.222912989911\n",
      "最优解：\n",
      " [1. 1. 1. 1. 1. 1. 1. 1. 1. 1. 1. 1. 1. 1. 1. 1. 1. 1. 1. 1. 1. 1. 1. 1.\n",
      " 1. 1. 1. 1. 1. 1. 1. 1. 1. 1. 1. 1. 1. 1. 1. 1. 1. 1. 1. 1. 1. 1. 1. 1.\n",
      " 1. 1. 1. 1. 1. 1. 1. 1. 1. 1. 1. 1. 1. 1. 1. 1. 1. 1. 1. 1. 1. 1. 1. 1.\n",
      " 1. 1. 1. 1. 1. 1. 1. 1. 1. 1. 1. 1. 1. 1. 1. 1. 1. 1. 1. 1. 1. 1. 1. 1.\n",
      " 1. 1. 1. 1. 1. 1. 1. 1. 1. 1. 1. 1. 1. 1. 1. 1. 1. 1. 1. 1. 1. 1. 1. 1.\n",
      " 1. 1. 1. 1. 1. 1. 1. 1. 1. 1. 1. 1. 1. 1. 1. 1. 1. 1. 1. 1. 1. 1. 1. 1.\n",
      " 1. 1. 1. 1. 1. 1. 1. 1. 1. 1. 1. 1. 1. 1. 1. 1. 1. 1. 1. 1. 1. 1. 1. 1.\n",
      " 1. 1. 1. 1. 1. 1. 1. 1. 1. 1. 1. 1. 1. 1. 1. 1. 1. 1. 1. 1. 1. 1. 1. 1.\n",
      " 1. 1. 1. 1. 1. 1. 1. 1.]\n",
      "迭代终止是否成功： True\n",
      "迭代终止原因： Optimization terminated successfully\n"
     ]
    }
   ],
   "source": [
    "delta = 1\n",
    "C = 1\n",
    "y = y.reshape(-1, 1)\n",
    "\n",
    "\n",
    "def fun(a,kernel = GaussKernel(delta)):  # 目标函数\n",
    "    # 高斯核，依然没有合适的向量化方法\n",
    "    temp = a.reshape(-1, 1) * y * x  # N*n\n",
    "    # dist = squareform(pdist(temp, lambda x, y: ((x - y) ** 2).sum()))\n",
    "    # return 0.5*np.exp(-dist / delta ** 2).sum() - a.sum()\n",
    "    K = np.ndarray((len(temp), len(temp)))\n",
    "    for i in range(len(temp)):\n",
    "        for j in range(len(temp)):\n",
    "            K[i,j] = kernel(temp[i],temp[j])\n",
    "    return 0.5*K.sum()-a.sum()\n",
    "\n",
    "\n",
    "# 约束\n",
    "cons = [{\"type\": \"eq\", \"fun\": lambda a: (a.reshape(-1, 1) * y).sum()}]  # sum(aiyi)==0\n",
    "cons += [{\"type\": \"ineq\", \"fun\": lambda a, i=i: a[i]} for i in range(len(y))]  # ai>=0\n",
    "cons += [{\"type\": \"ineq\", \"fun\": lambda a, i=i: C-a[i]} for i in range(len(y))]  # ai<=C\n",
    "\n",
    "a0 = np.ones(y.shape)  # 设置初始值\n",
    "res = minimize(fun, a0, constraints=cons)\n",
    "print(\"最小值：\", res.fun)\n",
    "print(\"最优解：\\n\", res.x)\n",
    "print(\"迭代终止是否成功：\", res.success)\n",
    "print(\"迭代终止原因：\", res.message)\n",
    "# 目前 Bug\n",
    "# 1. 数据一多，求解失败\n",
    "# 2. 咋全都是支持向量"
   ]
  },
  {
   "cell_type": "markdown",
   "metadata": {},
   "source": [
    "SKlearn 中的 SVM 方法"
   ]
  },
  {
   "cell_type": "code",
   "execution_count": 92,
   "metadata": {
    "ExecuteTime": {
     "end_time": "2019-11-10T05:47:23.374607Z",
     "start_time": "2019-11-10T05:47:23.078407Z"
    }
   },
   "outputs": [
    {
     "data": {
      "text/plain": [
       "SVC(gamma=1, tol=1e-05)"
      ]
     },
     "execution_count": 92,
     "metadata": {},
     "output_type": "execute_result"
    }
   ],
   "source": [
    "from sklearn import svm\n",
    "clf = svm.SVC(kernel='rbf', gamma=1, tol=1e-5)\n",
    "clf.fit(x, y.reshape(-1))"
   ]
  },
  {
   "cell_type": "code",
   "execution_count": 93,
   "metadata": {
    "ExecuteTime": {
     "end_time": "2019-11-10T05:47:25.571622Z",
     "start_time": "2019-11-10T05:47:25.559235Z"
    }
   },
   "outputs": [
    {
     "name": "stdout",
     "output_type": "stream",
     "text": [
      "支持向量为： [ 16  28  29  39  64  75  80  83 123 139 143 157 181 194 195 199   4   9\n",
      "  10  17  23  26  44  70  77  87  93 144 149 172 183 191]\n",
      "b= [0.02658741]\n",
      "yi*ai= [[-0.7358236  -1.         -1.         -1.         -1.         -0.26478064\n",
      "  -1.         -1.         -1.         -1.         -0.98248878 -0.00790241\n",
      "  -1.         -1.         -0.80599127 -1.          0.38482754  1.\n",
      "   1.          1.          0.81340805  1.          0.50462463  1.\n",
      "   1.          1.          1.          1.          1.          0.09412649\n",
      "   1.          1.        ]]\n",
      "测试准确率： 1.0\n"
     ]
    }
   ],
   "source": [
    "print('支持向量为：', clf.support_)\n",
    "print('b=', clf.intercept_)\n",
    "print('yi*ai=', clf.dual_coef_)\n",
    "print('测试准确率：', clf.score(x, y))"
   ]
  }
 ],
 "metadata": {
  "kernelspec": {
   "display_name": "Study",
   "language": "python",
   "name": "study"
  },
  "language_info": {
   "codemirror_mode": {
    "name": "ipython",
    "version": 3
   },
   "file_extension": ".py",
   "mimetype": "text/x-python",
   "name": "python",
   "nbconvert_exporter": "python",
   "pygments_lexer": "ipython3",
   "version": "3.9.7"
  },
  "toc": {
   "base_numbering": 1,
   "nav_menu": {},
   "number_sections": true,
   "sideBar": true,
   "skip_h1_title": false,
   "title_cell": "Table of Contents",
   "title_sidebar": "Contents",
   "toc_cell": false,
   "toc_position": {},
   "toc_section_display": true,
   "toc_window_display": false
  },
  "varInspector": {
   "cols": {
    "lenName": 16,
    "lenType": 16,
    "lenVar": 40
   },
   "kernels_config": {
    "python": {
     "delete_cmd_postfix": "",
     "delete_cmd_prefix": "del ",
     "library": "var_list.py",
     "varRefreshCmd": "print(var_dic_list())"
    },
    "r": {
     "delete_cmd_postfix": ") ",
     "delete_cmd_prefix": "rm(",
     "library": "var_list.r",
     "varRefreshCmd": "cat(var_dic_list()) "
    }
   },
   "types_to_exclude": [
    "module",
    "function",
    "builtin_function_or_method",
    "instance",
    "_Feature"
   ],
   "window_display": false
  },
  "widgets": {
   "application/vnd.jupyter.widget-state+json": {
    "state": {},
    "version_major": 2,
    "version_minor": 0
   }
  }
 },
 "nbformat": 4,
 "nbformat_minor": 4
}
