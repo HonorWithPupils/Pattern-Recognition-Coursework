{
 "cells": [
  {
   "cell_type": "markdown",
   "metadata": {},
   "source": [
    "# SVM"
   ]
  },
  {
   "cell_type": "markdown",
   "metadata": {},
   "source": [
    "## Model: \n",
    "$$ y=sign(w\\cdot x+b) $$"
   ]
  },
  {
   "cell_type": "markdown",
   "metadata": {},
   "source": [
    "## Strategy: Margin maximization"
   ]
  },
  {
   "cell_type": "markdown",
   "metadata": {},
   "source": [
    "$$ \n",
    "{w,b}=arg\\min_{w,b} \\ \\frac {1}{2}||w||^2\\\\\n",
    "s.t \\ \\ y_i (w\\cdot x_i +b)\\geq 1\n",
    "$$"
   ]
  },
  {
   "cell_type": "markdown",
   "metadata": {},
   "source": [
    "## Algorithm: Lagrange duality\n"
   ]
  },
  {
   "cell_type": "markdown",
   "metadata": {},
   "source": [
    "构造拉格朗日函数\n",
    "\n",
    "$$\n",
    "L(w,b,a)=\\frac {1}{2}||w||^2+\\sum_{i=1}^N{a_i[1-y_i (w\\cdot x_i +b)]}\\quad a_i>0\\\\\n",
    "$$\n",
    "\n"
   ]
  },
  {
   "cell_type": "markdown",
   "metadata": {},
   "source": [
    "根据拉格朗日对偶性，将最小最大问题转化为最大最小问题\n",
    "\n",
    "$$\n",
    "\\max_{a\\geq0}L(w,b,a)=\n",
    "\\begin{cases}\n",
    "\\frac {1}{2}||w||^2 & \\text{$w,b$ 满足约束}\\\\\n",
    "+\\infty &\\text{$w,b$ 不满足约束}\n",
    "\\end{cases}\n",
    "$$\n",
    "\n",
    "\n",
    "$$\n",
    "{w,b}=arg\\min_{w,b}\\max_{a\\geq0}L(w,b,a)=arg\\max_{a\\geq0}\\min_{w,b}L(w,b,a)\n",
    "$$\n",
    "\n"
   ]
  },
  {
   "cell_type": "markdown",
   "metadata": {},
   "source": [
    "$L(w,b,a)$分别对${w,b}$求导\n",
    "\n",
    "$$\n",
    "\\nabla_w {L(w,b,a)}=w-\\sum_{i=0}^N{a_iy_ix_i}=0\\\\\n",
    "\\nabla_b {L(w,b,a)}=-\\sum_{i=0}^N{a_iy_i}=0\n",
    "$$\n",
    "\n",
    "得\n",
    "$$\n",
    "w=\\sum_{i=0}^N{a_iy_ix_i}\\\\\n",
    "\\sum_{i=0}^N{a_iy_i}=0\n",
    "$$\n",
    "\n",
    "待回$L(w,b,a)$，得\n",
    "$$\n",
    "\\min_{w,b} {L(w,b,a)}=-\\frac 12 \\sum_{i=0}^N \\sum_{j=0}^N a_i a_j y_i y_j( x_i\\cdot x_j )+\\sum_{i=0}^N a_i\n",
    "$$\n",
    "\n",
    "即得原问题的对偶问题\n",
    "$$\n",
    "\\min_{a}\\quad \\frac 12 \\sum_{i=0}^N \\sum_{j=0}^N a_i a_j y_i y_j( x_i\\cdot x_j )-\\sum_{i=0}^N a_i\\\\\n",
    "s.t.\\quad \\sum_{i=0}^N{a_iy_i}=0\\\\\n",
    "a_i\\geq0,\\quad i=1,2,...,N\n",
    "$$\n",
    "\n",
    "必有两个以上$a_j>0$，即支持向量，原问题最优解如下\n",
    "$$\n",
    "w^*=\\sum_{i=0}^N{a_i^*y_ix_i}\\\\\n",
    "b^*=y_j-\\sum_{i=0}^N{a_i^*y_i(x_i\\cdot x_j)}\n",
    "$$\n"
   ]
  },
  {
   "cell_type": "code",
   "execution_count": 1,
   "metadata": {
    "ExecuteTime": {
     "end_time": "2019-11-10T05:45:40.794002Z",
     "start_time": "2019-11-10T05:45:39.372765Z"
    }
   },
   "outputs": [],
   "source": [
    "import numpy as np\n",
    "from sklearn.datasets import load_iris"
   ]
  },
  {
   "cell_type": "code",
   "execution_count": 2,
   "metadata": {
    "ExecuteTime": {
     "end_time": "2019-11-10T05:45:42.578022Z",
     "start_time": "2019-11-10T05:45:42.558893Z"
    },
    "code_folding": [
     0
    ]
   },
   "outputs": [],
   "source": [
    "# 数据集\n",
    "from random import shuffle\n",
    "iris = load_iris()\n",
    "X = iris.data[0:100]\n",
    "Y = iris.target[0:100]\n",
    "Y = Y*2-1  # 原数据的标签是0，1，这里处理成 -1，1\n",
    "order = [i for i in range(0, 100)]\n",
    "shuffle(order)\n",
    "X, Y = X[order], Y[order]  # 乱序\n",
    "N = 50\n",
    "x, y = X[:N], Y[:N]  # 前N个作为训练集\n",
    "y = y.reshape(N, 1)"
   ]
  },
  {
   "cell_type": "code",
   "execution_count": 3,
   "metadata": {
    "ExecuteTime": {
     "end_time": "2019-11-10T05:45:48.648072Z",
     "start_time": "2019-11-10T05:45:48.368667Z"
    }
   },
   "outputs": [
    {
     "name": "stdout",
     "output_type": "stream",
     "text": [
      "最小值： -0.5655472972002299\n",
      "最优解：\n",
      " [ 3.71530602e-16  3.50021636e-17 -7.43230345e-16 -6.80095695e-16\n",
      " -3.31067338e-16  8.30167007e-16  4.71591796e-16 -2.00435784e-16\n",
      " -2.09110017e-16  7.23894398e-16  4.69093350e-16 -5.94126297e-16\n",
      "  3.85685395e-16 -9.93510959e-17 -6.91546599e-16  5.65253274e-01\n",
      " -5.53151040e-16  1.32357564e-16 -8.76150260e-17  6.01256561e-16\n",
      "  1.55025993e-01 -6.66954446e-17  1.09080832e-16  2.34006683e-16\n",
      " -1.52805484e-16  8.77033968e-17  3.76704208e-16  3.94785396e-16\n",
      " -1.10804006e-16  2.56416541e-16  4.00563048e-16 -3.70037154e-16\n",
      " -1.02258168e-15  3.21048754e-01 -8.97058369e-17  6.17270760e-16\n",
      " -1.58698272e-17 -8.58255178e-16 -1.84453851e-16  2.31213505e-16\n",
      "  1.34258425e-16  8.91785267e-02 -4.72555100e-16 -6.94341027e-16\n",
      "  9.87282986e-17  1.44870820e-16  2.25561921e-16  1.19936768e-17\n",
      "  2.63941754e-16  5.90094123e-17]\n",
      "迭代终止是否成功： True\n",
      "迭代终止原因： Optimization terminated successfully.\n"
     ]
    }
   ],
   "source": [
    "from scipy.optimize import minimize  # 导入最小化算法\n",
    "\n",
    "\n",
    "def fun(a):   # 目标函数\n",
    "    temp = (a.reshape(N, 1)*y)*x  # N*n\n",
    "    return 0.5*(np.dot(temp, temp.T)).sum()-a.sum()\n",
    "\n",
    "\n",
    "# 约束\n",
    "cons = [{'type': 'eq', 'fun': lambda a: (\n",
    "    a.reshape(N, 1)*y).sum()}]  # sum(aiyi)==0\n",
    "cons += [{'type': 'ineq', 'fun': lambda a, i=i: a[i]}\n",
    "         for i in range(N)]  # ai>=0\n",
    "# i=i 不可缺少\n",
    "\n",
    "a0 = np.ones(y.shape)  # 设置初始值\n",
    "res = minimize(fun, a0, method='SLSQP', constraints=cons)\n",
    "print('最小值：', res.fun)\n",
    "print('最优解：\\n', res.x)\n",
    "print('迭代终止是否成功：', res.success)\n",
    "print('迭代终止原因：', res.message)"
   ]
  },
  {
   "cell_type": "code",
   "execution_count": 4,
   "metadata": {
    "ExecuteTime": {
     "end_time": "2019-11-10T05:45:54.294626Z",
     "start_time": "2019-11-10T05:45:54.281031Z"
    }
   },
   "outputs": [
    {
     "name": "stdout",
     "output_type": "stream",
     "text": [
      "支持向量为: [15 20 33 41]\n",
      "W= [ 0.03677109 -0.4516543   0.8758669   0.39677697]\n",
      "B= [-1.38334575]\n",
      "A= [0.56525327 0.15502599 0.32104875 0.08917853]\n"
     ]
    }
   ],
   "source": [
    "a = res.x\n",
    "sv = np.where(abs(a) > 1e-10)[0]  # 支持向量\n",
    "w = (a.reshape(N, 1)*y*x).sum(axis=0)\n",
    "b = y[sv[0]]-(a.reshape(N, 1)*y*np.dot(x, x[sv[0]].reshape(4, 1))).sum()\n",
    "print('支持向量为:', sv)\n",
    "print('W=', w)\n",
    "print('B=', b)\n",
    "print('A=', a[abs(a) > 1e-10])"
   ]
  },
  {
   "cell_type": "code",
   "execution_count": 5,
   "metadata": {
    "ExecuteTime": {
     "end_time": "2019-11-10T05:46:21.990215Z",
     "start_time": "2019-11-10T05:46:21.976295Z"
    }
   },
   "outputs": [],
   "source": [
    "def defunc(x): return np.sign(np.inner(w, x)+b)\n",
    "clsRes = defunc(X[N:])"
   ]
  },
  {
   "cell_type": "code",
   "execution_count": 7,
   "metadata": {
    "ExecuteTime": {
     "end_time": "2019-11-10T05:46:27.268380Z",
     "start_time": "2019-11-10T05:46:27.059130Z"
    }
   },
   "outputs": [
    {
     "data": {
      "image/png": "[encoded data removed]",
      "text/plain": [
       "<Figure size 432x288 with 1 Axes>"
      ]
     },
     "metadata": {
      "needs_background": "light"
     },
     "output_type": "display_data"
    }
   ],
   "source": [
    "import matplotlib.pyplot as plt\n",
    "plt.stem(Y[N:], use_line_collection=True, linefmt='b:', markerfmt='yD')\n",
    "plt.stem(clsRes, use_line_collection=True, linefmt='g-')\n",
    "plt.show()"
   ]
  },
  {
   "cell_type": "markdown",
   "metadata": {},
   "source": [
    "原问题优化结果，和对偶问题优化结果相同\n",
    "\n",
    "$$ \n",
    "{w,b}=arg\\min_{w,b} \\ \\frac {1}{2}||w||^2\\\\\n",
    "s.t \\ \\ y_i (w\\cdot x_i +b)\\geq 1\n",
    "$$"
   ]
  },
  {
   "cell_type": "code",
   "execution_count": 8,
   "metadata": {
    "ExecuteTime": {
     "end_time": "2019-11-10T05:46:34.401097Z",
     "start_time": "2019-11-10T05:46:34.352899Z"
    }
   },
   "outputs": [
    {
     "name": "stdout",
     "output_type": "stream",
     "text": [
      "最小值： 0.5655474601674219\n",
      "最优解：\n",
      " [ 0.03667851 -0.45192582  0.87634277  0.39690806 -1.38394191]\n",
      "迭代终止是否成功： True\n",
      "迭代终止原因： Optimization terminated successfully.\n"
     ]
    }
   ],
   "source": [
    "def fun_o(wb): return 0.5*np.inner(wb[:-1], wb[:-1])\n",
    "\n",
    "\n",
    "# 约束\n",
    "cons_o = [{'type': 'ineq', 'fun':\n",
    "           lambda wb, i=i: y[i]*(np.inner(wb[:-1], x[i])+wb[-1])-1}\n",
    "          for i in range(N)]\n",
    "\n",
    "wb0 = np.ones(x.shape[1]+1)  # 设置初始值\n",
    "res = minimize(fun_o, wb0, method='SLSQP', constraints=cons_o)\n",
    "print('最小值：', res.fun)\n",
    "print('最优解：\\n', res.x)\n",
    "print('迭代终止是否成功：', res.success)\n",
    "print('迭代终止原因：', res.message)"
   ]
  },
  {
   "cell_type": "markdown",
   "metadata": {},
   "source": [
    "Sklearn库中的SVM的分类结果，相同"
   ]
  },
  {
   "cell_type": "code",
   "execution_count": 9,
   "metadata": {
    "ExecuteTime": {
     "end_time": "2019-11-10T05:47:23.374607Z",
     "start_time": "2019-11-10T05:47:23.078407Z"
    }
   },
   "outputs": [
    {
     "data": {
      "text/plain": [
       "SVC(C=1.0, cache_size=200, class_weight=None, coef0=0.0,\n",
       "    decision_function_shape='ovr', degree=3, gamma='auto_deprecated',\n",
       "    kernel='linear', max_iter=-1, probability=False, random_state=None,\n",
       "    shrinking=True, tol=1e-05, verbose=False)"
      ]
     },
     "execution_count": 9,
     "metadata": {},
     "output_type": "execute_result"
    }
   ],
   "source": [
    "from sklearn import svm\n",
    "clf = svm.SVC(kernel='linear', tol=1e-5)\n",
    "clf.fit(x, y.reshape(N))"
   ]
  },
  {
   "cell_type": "code",
   "execution_count": 10,
   "metadata": {
    "ExecuteTime": {
     "end_time": "2019-11-10T05:47:25.571622Z",
     "start_time": "2019-11-10T05:47:25.559235Z"
    }
   },
   "outputs": [
    {
     "name": "stdout",
     "output_type": "stream",
     "text": [
      "支持向量为： [20 33 41 15]\n",
      "W= [[ 0.03668428 -0.45192828  0.8763398   0.39690154]]\n",
      "B= [-1.38395344]\n",
      "A= [[-0.15539577 -0.32098824 -0.08916152  0.56554553]]\n",
      "测试准确率： 1.0\n"
     ]
    }
   ],
   "source": [
    "print('支持向量为：', clf.support_)\n",
    "print('W=', clf.coef_)\n",
    "print('B=', clf.intercept_)\n",
    "print('A=', clf.dual_coef_)  # 注意Sklearn里的ai等效于ai*yi\n",
    "print('测试准确率：', clf.score(X[N:], Y[N:]))"
   ]
  }
 ],
 "metadata": {
  "kernelspec": {
   "display_name": "Python 3",
   "language": "python",
   "name": "python3"
  },
  "language_info": {
   "codemirror_mode": {
    "name": "ipython",
    "version": 3
   },
   "file_extension": ".py",
   "mimetype": "text/x-python",
   "name": "python",
   "nbconvert_exporter": "python",
   "pygments_lexer": "ipython3",
   "version": "3.7.6"
  },
  "toc": {
   "base_numbering": 1,
   "nav_menu": {},
   "number_sections": true,
   "sideBar": true,
   "skip_h1_title": false,
   "title_cell": "Table of Contents",
   "title_sidebar": "Contents",
   "toc_cell": false,
   "toc_position": {},
   "toc_section_display": true,
   "toc_window_display": false
  },
  "varInspector": {
   "cols": {
    "lenName": 16,
    "lenType": 16,
    "lenVar": 40
   },
   "kernels_config": {
    "python": {
     "delete_cmd_postfix": "",
     "delete_cmd_prefix": "del ",
     "library": "var_list.py",
     "varRefreshCmd": "print(var_dic_list())"
    },
    "r": {
     "delete_cmd_postfix": ") ",
     "delete_cmd_prefix": "rm(",
     "library": "var_list.r",
     "varRefreshCmd": "cat(var_dic_list()) "
    }
   },
   "types_to_exclude": [
    "module",
    "function",
    "builtin_function_or_method",
    "instance",
    "_Feature"
   ],
   "window_display": false
  }
 },
 "nbformat": 4,
 "nbformat_minor": 2
}
