{
 "cells": [
  {
   "cell_type": "markdown",
   "id": "d22a936a-d1e5-49eb-a7e6-317592a36ba1",
   "metadata": {},
   "source": [
    "# Classification"
   ]
  },
  {
   "cell_type": "code",
   "execution_count": 1,
   "id": "dbec133a-3e8f-4ed3-9b33-6023d131cece",
   "metadata": {},
   "outputs": [],
   "source": [
    "import numpy as np"
   ]
  },
  {
   "cell_type": "markdown",
   "id": "105c60a2-bac3-4aac-8584-f0308b46e3ff",
   "metadata": {},
   "source": [
    "## 单量指标\n",
    "| 真实结果 | 预测结果 | 预测结果 |\n",
    "| ----- | --------- | ----------- |\n",
    "|    | 真 | 假 |\n",
    "| 真 | TP | FP |\n",
    "| 假 | FN | TN |\n",
    "\n",
    "$$\n",
    "\\begin{align}\n",
    "Accuracy &= \\frac {TP+TN}{TP+FP+FN+TN}\\\\ \\\\\n",
    "Precision &= \\frac {TP}{TP+FP}\\\\ \\\\\n",
    "Recall &= \\frac {TP}{TP+FN}\\\\ \\\\\n",
    "F_1 &= \\frac {2\\times Precision \\times Recall}{Precision + Recall}\n",
    "\\end{align}\n",
    "$$"
   ]
  },
  {
   "cell_type": "code",
   "execution_count": 4,
   "id": "70c4cd74-a5de-4438-8115-964629cdb76c",
   "metadata": {},
   "outputs": [],
   "source": [
    "def singleMetics(P, R):\n",
    "    TP = ((P==1) & (R==1)).sum()\n",
    "    FP = ((P==0) & (R==1)).sum()\n",
    "    FN = ((P==1) & (R==0)).sum()\n",
    "    TN = ((P==0) & (R==0)).sum()\n",
    "    Accuracy = (TP+TN)/len(P)\n",
    "    Precision = TP/(TP+FP)\n",
    "    Recall = TP/(TP+FN)\n",
    "    F1 = (2*Precision*Recall)/(Precision+Recall)\n",
    "    return { 'TP':TP, 'FP':FP, 'FN':FN, 'TN':TN, 'Accuracy':Accuracy,\n",
    "             'Precision':Precision, 'Recall':Recall, 'F1':F1}"
   ]
  },
  {
   "cell_type": "markdown",
   "id": "4e794843-575b-4cc2-a7fb-828b51dfbc6b",
   "metadata": {},
   "source": [
    "## P-R曲线\n",
    "以 Precision 为 Y 轴，Recall 为 X 轴的曲线"
   ]
  },
  {
   "cell_type": "code",
   "execution_count": null,
   "id": "0c5f52c2-7b16-4b29-878b-03f0aef5f30e",
   "metadata": {},
   "outputs": [],
   "source": []
  }
 ],
 "metadata": {
  "kernelspec": {
   "display_name": "Python 3 (ipykernel)",
   "language": "python",
   "name": "python3"
  },
  "language_info": {
   "codemirror_mode": {
    "name": "ipython",
    "version": 3
   },
   "file_extension": ".py",
   "mimetype": "text/x-python",
   "name": "python",
   "nbconvert_exporter": "python",
   "pygments_lexer": "ipython3",
   "version": "3.9.7"
  }
 },
 "nbformat": 4,
 "nbformat_minor": 5
}
