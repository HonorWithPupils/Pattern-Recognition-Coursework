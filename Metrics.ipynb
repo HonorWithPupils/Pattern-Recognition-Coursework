{
 "cells": [
  {
   "cell_type": "markdown",
   "id": "d22a936a-d1e5-49eb-a7e6-317592a36ba1",
   "metadata": {},
   "source": [
    "# 二分类"
   ]
  },
  {
   "cell_type": "code",
   "execution_count": 1,
   "id": "dbec133a-3e8f-4ed3-9b33-6023d131cece",
   "metadata": {},
   "outputs": [],
   "source": [
    "import numpy as np\n",
    "# %matplotlib widget\n",
    "from matplotlib import pyplot as plt"
   ]
  },
  {
   "cell_type": "markdown",
   "id": "105c60a2-bac3-4aac-8584-f0308b46e3ff",
   "metadata": {
    "tags": []
   },
   "source": [
    "## 单量指标\n",
    "| 真实结果 | 预测结果 | 预测结果 |\n",
    "| ----- | --------- | ----------- |\n",
    "|    | 真 | 假 |\n",
    "| 真 | TP | FN |\n",
    "| 假 | FP | TN |\n",
    "\n",
    "$$\n",
    "\\begin{aligned}\n",
    "Accuracy &= \\frac {TP+TN}{TP+FP+FN+TN}\\\\ \\\\\n",
    "Precision &= \\frac {TP}{TP+FP}\\\\ \\\\\n",
    "Recall &= \\frac {TP}{TP+FN}\\\\ \\\\\n",
    "F_1 &= \\frac {2\\times Precision \\times Recall}{Precision + Recall}\n",
    "\\end{aligned}\n",
    "$$"
   ]
  },
  {
   "cell_type": "code",
   "execution_count": 2,
   "id": "70c4cd74-a5de-4438-8115-964629cdb76c",
   "metadata": {},
   "outputs": [],
   "source": [
    "def singleMetics(P, T):\n",
    "    TP = ((P==1) & (T==1)).sum()\n",
    "    FP = ((P==0) & (T==1)).sum()\n",
    "    FN = ((P==1) & (T==0)).sum()\n",
    "    TN = ((P==0) & (T==0)).sum()\n",
    "    Accuracy = (TP+TN)/len(P)\n",
    "    Precision = TP/(TP+FP)\n",
    "    Recall = TP/(TP+FN)\n",
    "    F1 = (2*Precision*Recall)/(Precision+Recall)\n",
    "    return { 'TP':TP, 'FP':FP, 'FN':FN, 'TN':TN, 'Accuracy':Accuracy,\n",
    "             'Precision':Precision, 'Recall':Recall, 'F1':F1}"
   ]
  },
  {
   "cell_type": "markdown",
   "id": "4e794843-575b-4cc2-a7fb-828b51dfbc6b",
   "metadata": {
    "tags": []
   },
   "source": [
    "## P-R曲线\n",
    "选择不同的置信度，以 Precision 为 Y 轴，Recall 为 X 轴的曲线"
   ]
  },
  {
   "cell_type": "code",
   "execution_count": 3,
   "id": "794720f1-cba0-40aa-bc15-68d2cfd93fad",
   "metadata": {},
   "outputs": [],
   "source": [
    "def PRcurve(y_prob, y_true, plot=False):\n",
    "    # 排序\n",
    "    sorted_indices = np.argsort(y_prob)[::-1]\n",
    "    y_prob = y_prob[sorted_indices]\n",
    "    y_true = y_true[sorted_indices]\n",
    "    \n",
    "    precisions = []\n",
    "    recalls = []\n",
    "    thresholds = []\n",
    "    \n",
    "    # 如果 y_prob 没有 1，则手动添加一个 (0,1) 坐标\n",
    "    # 防止 Precision 分母/分子 皆为 0\n",
    "    if y_prob[0] != 1:\n",
    "        precisions.append(1)\n",
    "        recalls.append(0)\n",
    "        thresholds.append(1)\n",
    "    \n",
    "    # 初始化：全部预测为 False\n",
    "    TP = 0\n",
    "    FP = 0\n",
    "    FN = y_true.sum().item()\n",
    "    for prob, true in zip(y_prob, y_true):\n",
    "        if true == 1:\n",
    "            TP += 1\n",
    "            FN -= 1\n",
    "        else:\n",
    "            FP += 1\n",
    "        P = TP/(TP+FP)\n",
    "        R = TP/(TP+FN)\n",
    "        precisions.append(P)\n",
    "        recalls.append(R)\n",
    "        thresholds.append(prob)\n",
    "        # 当 Recall 为 1 时，就可以退出了\n",
    "        if R == 1:\n",
    "            break\n",
    "    \n",
    "    precisions = np.array(precisions)\n",
    "    recalls = np.array(recalls)\n",
    "    thresholds = np.array(thresholds)\n",
    "    \n",
    "    if plot:\n",
    "        fig = plt.figure()\n",
    "        plt.xlabel('Recall')\n",
    "        plt.ylabel('Precision')\n",
    "        plt.plot(recalls, precisions)\n",
    "        plt.fill_between(recalls, precisions, color='lightblue')\n",
    "    \n",
    "    return precisions, recalls, thresholds"
   ]
  },
  {
   "cell_type": "code",
   "execution_count": 4,
   "id": "ac851fec-a6c4-41f5-b3a4-c812def1bd2d",
   "metadata": {},
   "outputs": [
    {
     "data": {
      "image/png": "[encoded data removed]",
      "text/plain": [
       "<Figure size 432x288 with 1 Axes>"
      ]
     },
     "metadata": {
      "needs_background": "light"
     },
     "output_type": "display_data"
    }
   ],
   "source": [
    "y_true = np.array([0, 0, 1, 1])\n",
    "y_prob = np.array([0.1, 0.4, 0.35, 0.8])\n",
    "precision, recall, thresholds = PRcurve(y_prob, y_true, plot=True)"
   ]
  },
  {
   "cell_type": "code",
   "execution_count": 5,
   "id": "e139bf8e-8fd6-49ee-91c5-03c5d99dd704",
   "metadata": {},
   "outputs": [],
   "source": [
    "# 与 sklearn 中的 metrics 比较\n",
    "import numpy as np\n",
    "from sklearn.metrics import precision_recall_curve\n",
    "precision, recall, thresholds = precision_recall_curve(y_true, y_prob)"
   ]
  },
  {
   "cell_type": "code",
   "execution_count": 6,
   "id": "63e7acbe-e586-4048-9d9d-3251da5a35b6",
   "metadata": {},
   "outputs": [
    {
     "data": {
      "image/png": "[encoded data removed]",
      "text/plain": [
       "<Figure size 432x288 with 1 Axes>"
      ]
     },
     "metadata": {
      "needs_background": "light"
     },
     "output_type": "display_data"
    }
   ],
   "source": [
    "# 效果一致\n",
    "fig = plt.figure()\n",
    "plt.plot(recall, precision)\n",
    "plt.fill_between(recall, precision, color='lightblue');"
   ]
  },
  {
   "cell_type": "markdown",
   "id": "4dbd6f41-2d48-4202-8160-0c2f9a54e602",
   "metadata": {
    "tags": []
   },
   "source": [
    "### AP\n",
    "PR 曲线 之下的面积"
   ]
  },
  {
   "cell_type": "code",
   "execution_count": 7,
   "id": "984d7522-ce18-4a79-8a20-d39de425f220",
   "metadata": {},
   "outputs": [],
   "source": [
    "def AP(y_prob, y_true):\n",
    "    P, R, _ = PRcurve(y_prob, y_true)\n",
    "    maxPs = list(set(P))\n",
    "    maxPs.sort(reverse=True)\n",
    "    S = 0\n",
    "    prevr = 0\n",
    "    for maxP in maxPs:\n",
    "        r = R[np.where(P == maxP)[0].max()]\n",
    "        S += maxP*(r-prevr)\n",
    "        prevr = r\n",
    "        if r == 1:\n",
    "            break\n",
    "    return S"
   ]
  },
  {
   "cell_type": "code",
   "execution_count": 8,
   "id": "a62f7237-a0e9-4664-86c3-023c05757f1b",
   "metadata": {},
   "outputs": [
    {
     "data": {
      "text/plain": [
       "0.8333333333333333"
      ]
     },
     "execution_count": 8,
     "metadata": {},
     "output_type": "execute_result"
    }
   ],
   "source": [
    "AP(y_prob, y_true)"
   ]
  },
  {
   "cell_type": "code",
   "execution_count": 9,
   "id": "522e8512-6b55-449b-8ca3-568ecbda3835",
   "metadata": {},
   "outputs": [
    {
     "data": {
      "text/plain": [
       "0.8333333333333333"
      ]
     },
     "execution_count": 9,
     "metadata": {},
     "output_type": "execute_result"
    }
   ],
   "source": [
    "# 效果完全一致\n",
    "from sklearn.metrics import average_precision_score\n",
    "average_precision_score(y_true, y_prob)"
   ]
  },
  {
   "cell_type": "markdown",
   "id": "e333c894-bc89-4b59-bbc8-9cea09e4bf32",
   "metadata": {},
   "source": [
    "### 平衡点 BEP\n",
    "PR 曲线 和 x=y 的交点"
   ]
  },
  {
   "cell_type": "code",
   "execution_count": 10,
   "id": "fa8250b9-ad2b-476f-b6b3-397f8466aa1b",
   "metadata": {},
   "outputs": [],
   "source": [
    "def BEP(y_prob, y_true):\n",
    "    P, R, _ = PRcurve(y_prob, y_true)\n",
    "    return P[P<=R].max()"
   ]
  },
  {
   "cell_type": "code",
   "execution_count": 11,
   "id": "b8597bfd-50ca-4e2f-9234-b4cb6900e7c1",
   "metadata": {},
   "outputs": [
    {
     "data": {
      "text/plain": [
       "0.6666666666666666"
      ]
     },
     "execution_count": 11,
     "metadata": {},
     "output_type": "execute_result"
    }
   ],
   "source": [
    "BEP(y_prob, y_true)"
   ]
  },
  {
   "cell_type": "markdown",
   "id": "597c2cfc-c69e-40b3-beb2-17c5b4b3a9e3",
   "metadata": {
    "tags": []
   },
   "source": [
    "## ROC 曲线\n",
    "Receiver Operating Characteristic Curve\n",
    "选择不同的置信度，以FPR值为横坐标和TPR值为纵坐标\n",
    "\n",
    "$$\n",
    "FPR = \\frac {FP}{FP+TN}\n",
    "$$\n",
    "\n",
    "$$\n",
    "TPR = \\frac {TP}{TP+FN}\n",
    "$$"
   ]
  },
  {
   "cell_type": "code",
   "execution_count": 12,
   "id": "4a2a0766-79fe-451a-8582-75cf815ed05e",
   "metadata": {},
   "outputs": [],
   "source": [
    "def ROCcurve(y_prob, y_true, plot=False):\n",
    "    # 排序\n",
    "    sorted_indices = np.argsort(y_prob)[::-1]\n",
    "    y_prob = y_prob[sorted_indices]\n",
    "    y_true = y_true[sorted_indices]\n",
    "    \n",
    "    FPR = []\n",
    "    TPR = []\n",
    "    thresholds = []\n",
    "    \n",
    "    # 初始化：全部预测为 False\n",
    "    TP = 0\n",
    "    FP = 0\n",
    "    FN = y_true.sum().item()\n",
    "    TN = len(y_true) - FN\n",
    "    fpr = FP/(FP+TN)\n",
    "    TPR = TP/(TP+FN)\n",
    "    FPR.append(fpr)\n",
    "    TPR.append(TPR)\n",
    "    thresholds.append(1.)\n",
    "    \n",
    "    for prob, true in zip(y_prob, y_true):\n",
    "        if true == 1:\n",
    "            TP += 1\n",
    "            FN -= 1\n",
    "        else:\n",
    "            FP += 1\n",
    "            TN -= 1\n",
    "        fpr = FP/(FP+TN)\n",
    "        TPR = TP/(TP+FN)\n",
    "        FPR.append(fpr)\n",
    "        TPR.append(TPR)\n",
    "        thresholds.append(prob)\n",
    "    \n",
    "    FPR = np.array(FPR)\n",
    "    TPR = np.array(TPR)\n",
    "    thresholds = np.array(thresholds)\n",
    "    \n",
    "    if plot:\n",
    "        fig = plt.figure()\n",
    "        plt.xlabel('FPR')\n",
    "        plt.ylabel('TPR')\n",
    "        plt.plot(FPR, TPR)\n",
    "        plt.fill_between(FPR, TPR, color='lightblue')\n",
    "        plt.plot([0, 1], [0, 1], color='navy', lw=2, linestyle='--')\n",
    "    \n",
    "    return TPR, FPR, thresholds"
   ]
  },
  {
   "cell_type": "code",
   "execution_count": 13,
   "id": "3127a1a7-eba8-45b2-8163-53241355b4c0",
   "metadata": {},
   "outputs": [
    {
     "data": {
      "image/png": "[encoded data removed]",
      "text/plain": [
       "<Figure size 432x288 with 1 Axes>"
      ]
     },
     "metadata": {
      "needs_background": "light"
     },
     "output_type": "display_data"
    }
   ],
   "source": [
    "ROCcurve(y_prob, y_true, plot=True);"
   ]
  },
  {
   "cell_type": "code",
   "execution_count": 14,
   "id": "47f91e82-20c3-4adb-927e-75d47314b77b",
   "metadata": {},
   "outputs": [
    {
     "data": {
      "image/png": "[encoded data removed]",
      "text/plain": [
       "<Figure size 432x288 with 1 Axes>"
      ]
     },
     "metadata": {
      "needs_background": "light"
     },
     "output_type": "display_data"
    }
   ],
   "source": [
    "from sklearn.metrics import roc_curve\n",
    "tpr, fpr, _ = roc_curve(y_true, y_prob)\n",
    "fig = plt.figure()\n",
    "plt.plot(fpr, tpr)\n",
    "plt.fill_between(fpr, tpr, color='lightblue');\n",
    "# 效果完全相反"
   ]
  },
  {
   "cell_type": "code",
   "execution_count": 15,
   "id": "1e2e8c18-330b-44bb-96e0-a37f84b31960",
   "metadata": {},
   "outputs": [
    {
     "data": {
      "image/png": "[encoded data removed]",
      "text/plain": [
       "<Figure size 432x288 with 1 Axes>"
      ]
     },
     "metadata": {
      "needs_background": "light"
     },
     "output_type": "display_data"
    }
   ],
   "source": [
    "# 颠倒一下标签 0，1 才一致\n",
    "# 感觉我没问题啊，sklearn 写反了吧\n",
    "tpr, fpr, _ = roc_curve(y_true, y_prob, pos_label=0)\n",
    "fig = plt.figure()\n",
    "plt.plot(fpr, tpr)\n",
    "plt.fill_between(fpr, tpr, color='lightblue');"
   ]
  },
  {
   "cell_type": "markdown",
   "id": "33ae4c15-40c8-4ba6-b373-11062cffa5ae",
   "metadata": {},
   "source": [
    "### AUC\n",
    "ROC 曲线下的面积"
   ]
  },
  {
   "cell_type": "code",
   "execution_count": 16,
   "id": "89018387-2c9e-4afd-aaa1-477aca95dbbd",
   "metadata": {},
   "outputs": [],
   "source": [
    "def AUC(y_prob, y_true):\n",
    "    TPR, FPR, _ = ROCcurve(y_prob, y_true, plot=False)\n",
    "    prevfpr = 0\n",
    "    S = 0\n",
    "    for TPR, fpr in zip(TPR, FPR):\n",
    "        S += (fpr-prevfpr)*TPR\n",
    "        prevfpr = fpr\n",
    "    return S"
   ]
  },
  {
   "cell_type": "code",
   "execution_count": 17,
   "id": "74dd52d0-f9cf-49b7-b036-f3685048bd83",
   "metadata": {},
   "outputs": [
    {
     "data": {
      "text/plain": [
       "0.75"
      ]
     },
     "execution_count": 17,
     "metadata": {},
     "output_type": "execute_result"
    }
   ],
   "source": [
    "AUC(y_prob, y_true)"
   ]
  },
  {
   "cell_type": "code",
   "execution_count": 18,
   "id": "fd3ee36e-3547-41e1-9741-879d72e75b42",
   "metadata": {},
   "outputs": [
    {
     "data": {
      "text/plain": [
       "0.75"
      ]
     },
     "execution_count": 18,
     "metadata": {},
     "output_type": "execute_result"
    }
   ],
   "source": [
    "from sklearn.metrics import auc\n",
    "auc(fpr, tpr)\n",
    "# 结果一致"
   ]
  }
 ],
 "metadata": {
  "interpreter": {
   "hash": "130c8debc30394ace5b4caaeb25a51c042f5659d8817acb6f9c4eb3416a9be0e"
  },
  "kernelspec": {
   "display_name": "Study",
   "language": "python",
   "name": "python3"
  },
  "language_info": {
   "codemirror_mode": {
    "name": "ipython",
    "version": 3
   },
   "file_extension": ".py",
   "mimetype": "text/x-python",
   "name": "python",
   "nbconvert_exporter": "python",
   "pygments_lexer": "ipython3",
   "version": "3.9.7"
  },
  "widgets": {
   "application/vnd.jupyter.widget-state+json": {
    "state": {},
    "version_major": 2,
    "version_minor": 0
   }
  }
 },
 "nbformat": 4,
 "nbformat_minor": 5
}
