{
 "cells": [
  {
   "cell_type": "markdown",
   "id": "77da6fa6-b5fe-43c6-b8da-8489bf39f225",
   "metadata": {},
   "source": [
    "# Naive Bayes 朴素贝叶斯"
   ]
  },
  {
   "cell_type": "markdown",
   "id": "b0045f2e-7417-46b1-839b-39693182c1a6",
   "metadata": {
    "tags": []
   },
   "source": [
    "## 贝叶斯公式\n",
    "$$\n",
    "    P(A|B) = \\frac{P(B|A) \\cdot P(A)}{P(B)}\n",
    "$$"
   ]
  },
  {
   "cell_type": "markdown",
   "id": "557f42d2-e516-41ea-9652-7fee49361d21",
   "metadata": {},
   "source": [
    "## 条件独立假设\n",
    "$$\n",
    "\\begin{align}\n",
    "    P(\\boldsymbol X=\\boldsymbol x|Y = y_k) &= P(X_1=x_1 ,... ,X_N=x_N|Y = y_k) \\\\\n",
    "                                           &= \\prod_{i=1}^N P(X_i=x_i|Y = y_k)\n",
    "\\end{align}\n",
    "$$"
   ]
  },
  {
   "cell_type": "markdown",
   "id": "a72d2ead-2ccd-466a-898e-abddfacacfa8",
   "metadata": {
    "tags": []
   },
   "source": [
    "## 朴素贝叶斯方法\n",
    "$$\n",
    "\\begin{align}\n",
    "    P(Y = y_k|\\boldsymbol X=\\boldsymbol x) &= \\frac{P(\\boldsymbol X=\\boldsymbol x|Y = y_k) \\cdot P(Y = y_k)} {P(\\boldsymbol X=\\boldsymbol x)} \\\\\n",
    "                                           &= \\frac{P(Y = y_k) \\cdot \\prod_{i=1}^N P(X_i=x_i|Y = y_k)} {\\prod_{i=1}^N P(X_i=x_i)}\n",
    "\\end{align}\n",
    "$$\n",
    "\n",
    "\n",
    "$$\n",
    "\\begin{align}\n",
    "    f(x) &= arg \\max_{y\\in Y} P(Y = y_k|\\boldsymbol X=\\boldsymbol x) \\\\\n",
    "         &= arg \\max_{y\\in Y} P(Y = y_k) \\cdot \\prod_{i=1}^N P(X_i=x_i|Y = y_k)\n",
    "\\end{align}\n",
    "$$"
   ]
  },
  {
   "cell_type": "markdown",
   "id": "aa8bc72e-921f-4553-924c-54ff42d99dce",
   "metadata": {},
   "source": [
    "朴素贝叶斯方法通常处理分类问题，$Y$ 为离散量\n",
    "\n",
    "$$\n",
    "    P(Y=y_k) = \\frac {\\sum_{i=1}^N I(y_i = y_k)} {N}\n",
    "$$\n",
    "\n",
    "若 $X_k$ 也为离散量，则计算方法与 $Y$ 相同"
   ]
  },
  {
   "cell_type": "markdown",
   "id": "c8c05ccf-f6cb-401a-a005-3b078ec1e817",
   "metadata": {},
   "source": [
    "若 $X_k$ 为连续量，则猜测其符合某种概率分布，以正态分布为例：\n",
    "\n",
    "$$\n",
    "p(x) = \\frac {1} {\\sigma \\sqrt {2\\pi}} e^{-\\frac {(x-\\mu)^2} {2\\sigma^2}}\n",
    "$$"
   ]
  },
  {
   "cell_type": "markdown",
   "id": "51e635fc-53d7-493a-928c-9a551554c53c",
   "metadata": {},
   "source": [
    "## 实现"
   ]
  },
  {
   "cell_type": "code",
   "execution_count": 1,
   "id": "48ef1da4-cd0e-4ce2-b619-e1e046054c47",
   "metadata": {
    "tags": []
   },
   "outputs": [],
   "source": [
    "import numpy as np\n",
    "import pandas as pd\n",
    "import metrics as mc"
   ]
  },
  {
   "cell_type": "code",
   "execution_count": 2,
   "id": "fd7c99a4-c916-42c6-bd3d-a8901da28fa1",
   "metadata": {
    "tags": []
   },
   "outputs": [],
   "source": [
    "def GaussProb(x,mean,std):\n",
    "    exp = np.exp(-(np.power(x-mean,2))/(2*np.power(std,2)))\n",
    "    p = exp/std/np.sqrt(2*np.pi)\n",
    "    return p"
   ]
  },
  {
   "cell_type": "code",
   "execution_count": 3,
   "id": "4aab1025-c0bf-4547-ae82-d0685cbd6551",
   "metadata": {
    "tags": []
   },
   "outputs": [],
   "source": [
    "class NaiveBayes:\n",
    "    def __init__(self, X=None, Y=None, xType=None):\n",
    "        if X is not None and Y is not None:\n",
    "            self.fit(X, Y, xType)\n",
    "         \n",
    "    def _cal_y_prob(self, Y):\n",
    "        # 计算 P(Y=yk)\n",
    "        self._Y_class, self._Pyk = np.unique(Y, return_counts=True)\n",
    "        self._Pyk = self._Pyk/len(Y)\n",
    "    \n",
    "    def _cal_xi_prob_ifyk(self, X, Y, xType):\n",
    "        # 计算 P(Xi=xi|Y=yk)\n",
    "        self.xType = xType\n",
    "        if self.xType is None:\n",
    "            self.xType = np.zeros(X.shape[1])\n",
    "            \n",
    "        self._xi_prob_ifyk = []\n",
    "        \n",
    "        for Xi, t in zip(X.T, self.xType):\n",
    "            if t == 0: # 离散量\n",
    "                Xi_class = np.unique(Xi)\n",
    "                Xi_dir = {}\n",
    "                for x in Xi_class:\n",
    "                    x_list = []\n",
    "                    for y in self._Y_class:\n",
    "                        tmp = Xi[Y==y]\n",
    "                        P = ((tmp == x).sum()+1)/(len(tmp)+len(Xi_class))\n",
    "                        x_list.append(P)\n",
    "                    Xi_dir[x] = np.array(x_list)\n",
    "                self._xi_prob_ifyk.append(Xi_dir)\n",
    "            elif t == 1: # 连续量\n",
    "                Xi_list = []\n",
    "                for y in self._Y_class:\n",
    "                    tmp = Xi[Y==y]\n",
    "                    s = [tmp.mean(), tmp.std()]\n",
    "                    Xi_list.append(s)\n",
    "                self._xi_prob_ifyk.append(np.array(Xi_list))\n",
    "            else: \n",
    "                raise ValueError('输入量类型错误：0 为离散量；1 为连续量')\n",
    "        return\n",
    "            \n",
    "        \n",
    "    def _get_xi_prob_ifyk(self, x, i):\n",
    "        if self.xType[i] == 0:\n",
    "            return self._xi_prob_ifyk[i][x]\n",
    "        if self.xType[i] == 1:\n",
    "            mean = self._xi_prob_ifyk[i][0]\n",
    "            std = self._xi_prob_ifyk[i][1]\n",
    "            return GaussProb(x, mean, std)\n",
    "            \n",
    "    def fit(self, X, Y, xType=None):\n",
    "        # 计算先验概率: P(y=ck)\n",
    "        self._cal_y_prob(Y)\n",
    "        \n",
    "        # 计算条件概率: P(Xi=xi|Y=yk)\n",
    "        self._cal_xi_prob_ifyk(X, Y, xType)\n",
    "        \n",
    "        return\n",
    "    \n",
    "    def _predict_once(self, X):\n",
    "        res = [self._Pyk]\n",
    "        for i,x in enumerate(X):\n",
    "            res += self._get_xi_prob_ifyk(x,i)\n",
    "        res = np.array(res)\n",
    "        prob = np.prod(res, axis=0)\n",
    "        return prob/prob.sum()\n",
    "    \n",
    "    def predict(self, X, return_Prob=False):\n",
    "        probs = np.array([self._predict_once(x) for x in X])\n",
    "        classify = np.array([self._Y_class[i] for i in np.argmax(probs, axis=1)])\n",
    "        if return_Prob:\n",
    "            return classify, probs\n",
    "        else:\n",
    "            return classify"
   ]
  },
  {
   "cell_type": "markdown",
   "id": "5ca8561d-9263-4dd2-82da-f24f4fddbcae",
   "metadata": {
    "tags": []
   },
   "source": [
    "## 测试\n",
    "[Heart Failure Prediction Dataset](https://www.kaggle.com/fedesoriano/heart-failure-prediction)\n",
    "\n",
    "二分类问题"
   ]
  },
  {
   "cell_type": "code",
   "execution_count": 4,
   "id": "e442dfa7-9b4b-41e6-b254-ff2c9d40f677",
   "metadata": {},
   "outputs": [],
   "source": [
    "df = pd.read_csv('heart.csv')"
   ]
  },
  {
   "cell_type": "code",
   "execution_count": 5,
   "id": "f0979537-cbac-4fad-a58e-b929a98a550d",
   "metadata": {},
   "outputs": [
    {
     "data": {
      "text/html": [
       "<div>\n",
       "<style scoped>\n",
       "    .dataframe tbody tr th:only-of-type {\n",
       "        vertical-align: middle;\n",
       "    }\n",
       "\n",
       "    .dataframe tbody tr th {\n",
       "        vertical-align: top;\n",
       "    }\n",
       "\n",
       "    .dataframe thead th {\n",
       "        text-align: right;\n",
       "    }\n",
       "</style>\n",
       "<table border=\"1\" class=\"dataframe\">\n",
       "  <thead>\n",
       "    <tr style=\"text-align: right;\">\n",
       "      <th></th>\n",
       "      <th>Age</th>\n",
       "      <th>Sex</th>\n",
       "      <th>ChestPainType</th>\n",
       "      <th>RestingBP</th>\n",
       "      <th>Cholesterol</th>\n",
       "      <th>FastingBS</th>\n",
       "      <th>RestingECG</th>\n",
       "      <th>MaxHR</th>\n",
       "      <th>ExerciseAngina</th>\n",
       "      <th>Oldpeak</th>\n",
       "      <th>ST_Slope</th>\n",
       "      <th>HeartDisease</th>\n",
       "    </tr>\n",
       "  </thead>\n",
       "  <tbody>\n",
       "    <tr>\n",
       "      <th>0</th>\n",
       "      <td>40</td>\n",
       "      <td>M</td>\n",
       "      <td>ATA</td>\n",
       "      <td>140</td>\n",
       "      <td>289</td>\n",
       "      <td>0</td>\n",
       "      <td>Normal</td>\n",
       "      <td>172</td>\n",
       "      <td>N</td>\n",
       "      <td>0.0</td>\n",
       "      <td>Up</td>\n",
       "      <td>0</td>\n",
       "    </tr>\n",
       "    <tr>\n",
       "      <th>1</th>\n",
       "      <td>49</td>\n",
       "      <td>F</td>\n",
       "      <td>NAP</td>\n",
       "      <td>160</td>\n",
       "      <td>180</td>\n",
       "      <td>0</td>\n",
       "      <td>Normal</td>\n",
       "      <td>156</td>\n",
       "      <td>N</td>\n",
       "      <td>1.0</td>\n",
       "      <td>Flat</td>\n",
       "      <td>1</td>\n",
       "    </tr>\n",
       "    <tr>\n",
       "      <th>2</th>\n",
       "      <td>37</td>\n",
       "      <td>M</td>\n",
       "      <td>ATA</td>\n",
       "      <td>130</td>\n",
       "      <td>283</td>\n",
       "      <td>0</td>\n",
       "      <td>ST</td>\n",
       "      <td>98</td>\n",
       "      <td>N</td>\n",
       "      <td>0.0</td>\n",
       "      <td>Up</td>\n",
       "      <td>0</td>\n",
       "    </tr>\n",
       "    <tr>\n",
       "      <th>3</th>\n",
       "      <td>48</td>\n",
       "      <td>F</td>\n",
       "      <td>ASY</td>\n",
       "      <td>138</td>\n",
       "      <td>214</td>\n",
       "      <td>0</td>\n",
       "      <td>Normal</td>\n",
       "      <td>108</td>\n",
       "      <td>Y</td>\n",
       "      <td>1.5</td>\n",
       "      <td>Flat</td>\n",
       "      <td>1</td>\n",
       "    </tr>\n",
       "    <tr>\n",
       "      <th>4</th>\n",
       "      <td>54</td>\n",
       "      <td>M</td>\n",
       "      <td>NAP</td>\n",
       "      <td>150</td>\n",
       "      <td>195</td>\n",
       "      <td>0</td>\n",
       "      <td>Normal</td>\n",
       "      <td>122</td>\n",
       "      <td>N</td>\n",
       "      <td>0.0</td>\n",
       "      <td>Up</td>\n",
       "      <td>0</td>\n",
       "    </tr>\n",
       "  </tbody>\n",
       "</table>\n",
       "</div>"
      ],
      "text/plain": [
       "   Age Sex ChestPainType  RestingBP  Cholesterol  FastingBS RestingECG  MaxHR  \\\n",
       "0   40   M           ATA        140          289          0     Normal    172   \n",
       "1   49   F           NAP        160          180          0     Normal    156   \n",
       "2   37   M           ATA        130          283          0         ST     98   \n",
       "3   48   F           ASY        138          214          0     Normal    108   \n",
       "4   54   M           NAP        150          195          0     Normal    122   \n",
       "\n",
       "  ExerciseAngina  Oldpeak ST_Slope  HeartDisease  \n",
       "0              N      0.0       Up             0  \n",
       "1              N      1.0     Flat             1  \n",
       "2              N      0.0       Up             0  \n",
       "3              Y      1.5     Flat             1  \n",
       "4              N      0.0       Up             0  "
      ]
     },
     "execution_count": 5,
     "metadata": {},
     "output_type": "execute_result"
    }
   ],
   "source": [
    "df.head()"
   ]
  },
  {
   "cell_type": "code",
   "execution_count": 6,
   "id": "69858a78-6ebc-4aff-8f40-06714030fb06",
   "metadata": {},
   "outputs": [],
   "source": [
    "# 由于朴素贝叶斯不受计数顺序影响，所以采用标签分类即可\n",
    "NoCatList = ['Age', 'RestingBP', 'Cholesterol', 'MaxHR', 'Oldpeak']\n",
    "for s in df:\n",
    "    if s not in NoCatList:\n",
    "        df[s] = df[s].astype('category').cat.codes"
   ]
  },
  {
   "cell_type": "code",
   "execution_count": 7,
   "id": "00593af4-2fe3-427a-a55d-b4ab81ef8443",
   "metadata": {},
   "outputs": [
    {
     "data": {
      "text/html": [
       "<div>\n",
       "<style scoped>\n",
       "    .dataframe tbody tr th:only-of-type {\n",
       "        vertical-align: middle;\n",
       "    }\n",
       "\n",
       "    .dataframe tbody tr th {\n",
       "        vertical-align: top;\n",
       "    }\n",
       "\n",
       "    .dataframe thead th {\n",
       "        text-align: right;\n",
       "    }\n",
       "</style>\n",
       "<table border=\"1\" class=\"dataframe\">\n",
       "  <thead>\n",
       "    <tr style=\"text-align: right;\">\n",
       "      <th></th>\n",
       "      <th>Age</th>\n",
       "      <th>Sex</th>\n",
       "      <th>ChestPainType</th>\n",
       "      <th>RestingBP</th>\n",
       "      <th>Cholesterol</th>\n",
       "      <th>FastingBS</th>\n",
       "      <th>RestingECG</th>\n",
       "      <th>MaxHR</th>\n",
       "      <th>ExerciseAngina</th>\n",
       "      <th>Oldpeak</th>\n",
       "      <th>ST_Slope</th>\n",
       "      <th>HeartDisease</th>\n",
       "    </tr>\n",
       "  </thead>\n",
       "  <tbody>\n",
       "    <tr>\n",
       "      <th>0</th>\n",
       "      <td>40</td>\n",
       "      <td>1</td>\n",
       "      <td>1</td>\n",
       "      <td>140</td>\n",
       "      <td>289</td>\n",
       "      <td>0</td>\n",
       "      <td>1</td>\n",
       "      <td>172</td>\n",
       "      <td>0</td>\n",
       "      <td>0.0</td>\n",
       "      <td>2</td>\n",
       "      <td>0</td>\n",
       "    </tr>\n",
       "    <tr>\n",
       "      <th>1</th>\n",
       "      <td>49</td>\n",
       "      <td>0</td>\n",
       "      <td>2</td>\n",
       "      <td>160</td>\n",
       "      <td>180</td>\n",
       "      <td>0</td>\n",
       "      <td>1</td>\n",
       "      <td>156</td>\n",
       "      <td>0</td>\n",
       "      <td>1.0</td>\n",
       "      <td>1</td>\n",
       "      <td>1</td>\n",
       "    </tr>\n",
       "    <tr>\n",
       "      <th>2</th>\n",
       "      <td>37</td>\n",
       "      <td>1</td>\n",
       "      <td>1</td>\n",
       "      <td>130</td>\n",
       "      <td>283</td>\n",
       "      <td>0</td>\n",
       "      <td>2</td>\n",
       "      <td>98</td>\n",
       "      <td>0</td>\n",
       "      <td>0.0</td>\n",
       "      <td>2</td>\n",
       "      <td>0</td>\n",
       "    </tr>\n",
       "    <tr>\n",
       "      <th>3</th>\n",
       "      <td>48</td>\n",
       "      <td>0</td>\n",
       "      <td>0</td>\n",
       "      <td>138</td>\n",
       "      <td>214</td>\n",
       "      <td>0</td>\n",
       "      <td>1</td>\n",
       "      <td>108</td>\n",
       "      <td>1</td>\n",
       "      <td>1.5</td>\n",
       "      <td>1</td>\n",
       "      <td>1</td>\n",
       "    </tr>\n",
       "    <tr>\n",
       "      <th>4</th>\n",
       "      <td>54</td>\n",
       "      <td>1</td>\n",
       "      <td>2</td>\n",
       "      <td>150</td>\n",
       "      <td>195</td>\n",
       "      <td>0</td>\n",
       "      <td>1</td>\n",
       "      <td>122</td>\n",
       "      <td>0</td>\n",
       "      <td>0.0</td>\n",
       "      <td>2</td>\n",
       "      <td>0</td>\n",
       "    </tr>\n",
       "  </tbody>\n",
       "</table>\n",
       "</div>"
      ],
      "text/plain": [
       "   Age  Sex  ChestPainType  RestingBP  Cholesterol  FastingBS  RestingECG  \\\n",
       "0   40    1              1        140          289          0           1   \n",
       "1   49    0              2        160          180          0           1   \n",
       "2   37    1              1        130          283          0           2   \n",
       "3   48    0              0        138          214          0           1   \n",
       "4   54    1              2        150          195          0           1   \n",
       "\n",
       "   MaxHR  ExerciseAngina  Oldpeak  ST_Slope  HeartDisease  \n",
       "0    172               0      0.0         2             0  \n",
       "1    156               0      1.0         1             1  \n",
       "2     98               0      0.0         2             0  \n",
       "3    108               1      1.5         1             1  \n",
       "4    122               0      0.0         2             0  "
      ]
     },
     "execution_count": 7,
     "metadata": {},
     "output_type": "execute_result"
    }
   ],
   "source": [
    "df.head()"
   ]
  },
  {
   "cell_type": "code",
   "execution_count": 8,
   "id": "d15da1ae-b93b-467f-854e-12e96a9b4a53",
   "metadata": {},
   "outputs": [],
   "source": [
    "df = df.sample(frac=1)\n",
    "TrainX = df.values[:800, :-1]\n",
    "TrainY = df.values[:800, -1]\n",
    "TestX = df.values[800:, :-1]\n",
    "TestY = df.values[800:, -1]"
   ]
  },
  {
   "cell_type": "code",
   "execution_count": 9,
   "id": "d80ebdcf-b0f6-4d86-a5c4-9f8cafe1eb07",
   "metadata": {},
   "outputs": [],
   "source": [
    "classifier = NaiveBayes(X=TrainX, Y=TrainY, xType=[1,0,0,1,1,0,0,1,0,1,0])"
   ]
  },
  {
   "cell_type": "code",
   "execution_count": 10,
   "id": "2eb9b39d-145a-4804-ad00-003c35a5feb1",
   "metadata": {},
   "outputs": [],
   "source": [
    "PreY, ProbY = classifier.predict(TestX, return_Prob=True)"
   ]
  },
  {
   "cell_type": "code",
   "execution_count": 11,
   "id": "3357fb6e-3368-4f84-b057-2bd3eccfa7ed",
   "metadata": {},
   "outputs": [
    {
     "data": {
      "text/plain": [
       "{'TP': 54,\n",
       " 'FP': 6,\n",
       " 'FN': 10,\n",
       " 'TN': 48,\n",
       " 'Accuracy': 0.864406779661017,\n",
       " 'Precision': 0.9,\n",
       " 'Recall': 0.84375,\n",
       " 'F1': 0.870967741935484}"
      ]
     },
     "execution_count": 11,
     "metadata": {},
     "output_type": "execute_result"
    }
   ],
   "source": [
    "mc.singleMetics(PreY, TestY)"
   ]
  },
  {
   "cell_type": "code",
   "execution_count": 12,
   "id": "3dfcf601-af91-4352-8d17-5b4775cedec2",
   "metadata": {},
   "outputs": [
    {
     "data": {
      "image/png": "[encoded data removed]",
      "text/plain": [
       "<Figure size 432x288 with 1 Axes>"
      ]
     },
     "metadata": {
      "needs_background": "light"
     },
     "output_type": "display_data"
    }
   ],
   "source": [
    "mc.PRcurve(ProbY[:,1], TestY, plot=True);"
   ]
  },
  {
   "cell_type": "code",
   "execution_count": 13,
   "id": "02130afe-45e9-49bc-897e-6e536f6fdefd",
   "metadata": {},
   "outputs": [
    {
     "data": {
      "text/plain": [
       "0.9557192000220713"
      ]
     },
     "execution_count": 13,
     "metadata": {},
     "output_type": "execute_result"
    }
   ],
   "source": [
    "mc.AP(ProbY[:,1], TestY)"
   ]
  },
  {
   "cell_type": "code",
   "execution_count": 14,
   "id": "5541c0c1-9af2-45d4-9d2b-86750f49d205",
   "metadata": {},
   "outputs": [
    {
     "data": {
      "text/plain": [
       "0.8833333333333333"
      ]
     },
     "execution_count": 14,
     "metadata": {},
     "output_type": "execute_result"
    }
   ],
   "source": [
    "mc.BEP(ProbY[:,1], TestY)"
   ]
  },
  {
   "cell_type": "code",
   "execution_count": 15,
   "id": "fe6f6a47-5e6a-48b4-a862-abd904f739a6",
   "metadata": {},
   "outputs": [
    {
     "data": {
      "image/png": "[encoded data removed]",
      "text/plain": [
       "<Figure size 432x288 with 1 Axes>"
      ]
     },
     "metadata": {
      "needs_background": "light"
     },
     "output_type": "display_data"
    }
   ],
   "source": [
    "mc.ROCcurve(ProbY[:,1], TestY, plot=True);"
   ]
  },
  {
   "cell_type": "code",
   "execution_count": null,
   "id": "48eedf2d-1e24-46a5-84f5-5adc772ccc66",
   "metadata": {},
   "outputs": [],
   "source": [
    "mc.AUC(ProbY[:,1], TestY)"
   ]
  }
 ],
 "metadata": {
  "kernelspec": {
   "display_name": "Python 3 (ipykernel)",
   "language": "python",
   "name": "python3"
  },
  "language_info": {
   "codemirror_mode": {
    "name": "ipython",
    "version": 3
   },
   "file_extension": ".py",
   "mimetype": "text/x-python",
   "name": "python",
   "nbconvert_exporter": "python",
   "pygments_lexer": "ipython3",
   "version": "3.9.7"
  }
 },
 "nbformat": 4,
 "nbformat_minor": 5
}
