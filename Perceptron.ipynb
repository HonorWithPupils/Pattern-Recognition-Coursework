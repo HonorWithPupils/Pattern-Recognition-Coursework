{
 "cells": [
  {
   "cell_type": "markdown",
   "metadata": {},
   "source": [
    "# 感知机 perceptron"
   ]
  },
  {
   "cell_type": "code",
   "execution_count": 1,
   "metadata": {
    "ExecuteTime": {
     "end_time": "2019-10-24T10:16:31.096000Z",
     "start_time": "2019-10-24T10:16:31.091347Z"
    }
   },
   "outputs": [],
   "source": [
    "import numpy as np"
   ]
  },
  {
   "cell_type": "code",
   "execution_count": 28,
   "metadata": {
    "ExecuteTime": {
     "end_time": "2019-10-24T11:42:20.886807Z",
     "start_time": "2019-10-24T11:42:20.866095Z"
    }
   },
   "outputs": [],
   "source": [
    "class perceptron:\n",
    "    ndim = None\n",
    "    w = None  # weight vector 权值向量\n",
    "    yita = 0.2  # learning rate 学习率\n",
    "\n",
    "    def train(self, attributes, label):\n",
    "        x = np.append(attributes, 1)  # （w1,w2...wn）x+b->(w1,w2...wn,1)((x),1)\n",
    "        y = label\n",
    "        if self.ndim is None:\n",
    "            self.ndim = x.size-1\n",
    "            self.w = np.zeros(x.shape)\n",
    "        wx = np.inner(x, self.w)\n",
    "        if y*wx <= 0:\n",
    "            self.w += self.yita*y*x\n",
    "        return y*wx > 0\n",
    "\n",
    "    def trains_order(self, attributes, label, maxNtall=1000):\n",
    "        Nmisclf = 0\n",
    "        Count = 0\n",
    "        while True:\n",
    "            for x, y in zip(attributes, label):\n",
    "                Nmisclf += not self.train(x, y)\n",
    "            Count += 1\n",
    "            if Nmisclf == 0:\n",
    "                print(\"Successful, Number of training:\", Count)\n",
    "                break\n",
    "            if Count > maxNtall:\n",
    "                print(\"Fail, Misclassfication:\", Nmisclf)\n",
    "                break\n",
    "            Nmisclf = 0\n",
    "\n",
    "    def classification(self, attributes):\n",
    "        return np.sign(np.inner(np.append(attributes, 1), self.w))"
   ]
  },
  {
   "cell_type": "markdown",
   "metadata": {},
   "source": [
    "## Training Set"
   ]
  },
  {
   "cell_type": "code",
   "execution_count": 27,
   "metadata": {
    "ExecuteTime": {
     "end_time": "2019-10-24T11:42:04.015159Z",
     "start_time": "2019-10-24T11:42:03.990515Z"
    }
   },
   "outputs": [],
   "source": [
    "N = 100\n",
    "x1 = 2*np.random.random(size=N)-1\n",
    "x2 = 2*np.random.random(size=N)-1\n",
    "x3 = 2*np.random.random(size=N)-1\n",
    "x = np.array([x1, x2, x3]).T\n",
    "y = np.sign(np.inner(x, np.array([1, -2, 3]))+1)"
   ]
  },
  {
   "cell_type": "markdown",
   "metadata": {
    "ExecuteTime": {
     "end_time": "2019-10-17T13:49:31.725602Z",
     "start_time": "2019-10-17T13:49:31.699222Z"
    }
   },
   "source": [
    "## Training"
   ]
  },
  {
   "cell_type": "code",
   "execution_count": 30,
   "metadata": {
    "ExecuteTime": {
     "end_time": "2019-10-24T11:42:31.540565Z",
     "start_time": "2019-10-24T11:42:31.510414Z"
    }
   },
   "outputs": [
    {
     "name": "stdout",
     "output_type": "stream",
     "text": [
      "Successful, Number of training: 8\n",
      "[w] = [ 1.         -1.83944349  2.63156622  0.86241022]\n"
     ]
    },
    {
     "data": {
      "text/plain": [
       "3"
      ]
     },
     "execution_count": 30,
     "metadata": {},
     "output_type": "execute_result"
    }
   ],
   "source": [
    "clf = perceptron()\n",
    "clf.yita = 0.3\n",
    "clf.trains_order(x, y)\n",
    "print('[w] =', clf.w/clf.w[0])"
   ]
  }
 ],
 "metadata": {
  "kernelspec": {
   "display_name": "Python 3",
   "language": "python",
   "name": "python3"
  },
  "language_info": {
   "codemirror_mode": {
    "name": "ipython",
    "version": 3
   },
   "file_extension": ".py",
   "mimetype": "text/x-python",
   "name": "python",
   "nbconvert_exporter": "python",
   "pygments_lexer": "ipython3",
   "version": "3.9.5"
  },
  "toc": {
   "base_numbering": 1,
   "nav_menu": {},
   "number_sections": true,
   "sideBar": true,
   "skip_h1_title": false,
   "title_cell": "Table of Contents",
   "title_sidebar": "Contents",
   "toc_cell": false,
   "toc_position": {},
   "toc_section_display": true,
   "toc_window_display": false
  },
  "varInspector": {
   "cols": {
    "lenName": 16,
    "lenType": 16,
    "lenVar": 40
   },
   "kernels_config": {
    "python": {
     "delete_cmd_postfix": "",
     "delete_cmd_prefix": "del ",
     "library": "var_list.py",
     "varRefreshCmd": "print(var_dic_list())"
    },
    "r": {
     "delete_cmd_postfix": ") ",
     "delete_cmd_prefix": "rm(",
     "library": "var_list.r",
     "varRefreshCmd": "cat(var_dic_list()) "
    }
   },
   "types_to_exclude": [
    "module",
    "function",
    "builtin_function_or_method",
    "instance",
    "_Feature"
   ],
   "window_display": false
  }
 },
 "nbformat": 4,
 "nbformat_minor": 4
}
