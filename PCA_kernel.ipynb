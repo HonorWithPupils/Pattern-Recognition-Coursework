{
 "cells": [
  {
   "cell_type": "markdown",
   "id": "c1529a7e-2fda-45ba-9163-88d040403692",
   "metadata": {},
   "source": [
    "# PCA\n",
    "主成分分析（Principal components analysis，PCA）是一种减少数据集维数的方法，同时保持数据集中的对方差贡献最大的特征，使得经过转化过的特征之间不相关，减少冗余信息"
   ]
  },
  {
   "cell_type": "markdown",
   "id": "46653270-50b5-47a5-96b3-32e01470d6f8",
   "metadata": {
    "tags": []
   },
   "source": [
    "## 理论\n",
    "$\\def\\bm{\\boldsymbol}$\n",
    "对于数据 \n",
    "$$\n",
    "\\bm X_{m\\times n} = \n",
    "\\begin{pmatrix}\n",
    "x_{11} & \\dots & x_{1n} \\\\\n",
    "\\vdots & \\ddots& \\vdots \\\\\n",
    "x_{m1} & \\dots & x_{mn}\n",
    "\\end{pmatrix}\n",
    "$$\n",
    "\n",
    "其中 $n$ 为特征维数，$m$ 为样本数量 \n",
    "\n",
    "首先特征零均值化 \n",
    "\n",
    "$$\n",
    "\\bm X' = \\bm X - (\\bm\\mu_1,...,\\bm\\mu_n)\n",
    "$$\n",
    "\n",
    "协方差矩阵为\n",
    "\n",
    "$$\n",
    "\\begin{align}\n",
    "cov(\\bm X,\\bm X) &= E[(\\bm x-\\mu)(\\bm x-\\mu)^T] \\\\ \\\\\n",
    "&=\n",
    "\\begin{pmatrix}\n",
    "\\frac{1}{m}\\sum_{i}^{m}{x'_{i1}}^2 & \\dots & \n",
    "\\frac{1}{m}\\sum_{i}^{m}x'_{i1}x'_{in} \\\\\n",
    "\\vdots & \\ddots & \\vdots \\\\\n",
    "\\frac{1}{m}\\sum_{i}^{m}x'_{in}x'_{i1} & \\dots & \n",
    "\\frac{1}{m}\\sum_{i}^{m}{x'_{in}}^2\n",
    "\\end{pmatrix} \\\\ \\\\\n",
    "&= \\frac{1}{m} {\\bm X'}^T\\bm X'\n",
    "\\end{align}\n",
    "$$\n",
    "\n",
    "为使经过变换的特征方差最大，即协方差矩阵对角线最大；为使经过变换的特征之间协方差为 0，即协方差矩阵除对角线外为 0。又由于协方差矩阵为实对称阵，可以容易联想到对角化\n",
    "\n",
    "$$\n",
    "\\begin{align}\n",
    "\\bm \\Lambda &= \\bm P^T cov(\\bm X,\\bm X) \\bm P\\\\ \\\\\n",
    "&= \\frac{1}{m} \\bm P^T {\\bm X'}^T\\bm X' \\bm P\\\\ \\\\\n",
    "&= \\frac{1}{m} \\bm (\\bm X' \\bm P)^T \\bm X' \\bm P\\\\ \\\\\n",
    "\\Rightarrow &\\bm Y = \\bm X \\bm P\n",
    "\\end{align}\n",
    "$$\n",
    "\n",
    "这其中的具体证明不再复述"
   ]
  },
  {
   "cell_type": "markdown",
   "id": "f4e4de42-6d79-4377-b760-239270379ba7",
   "metadata": {
    "tags": []
   },
   "source": [
    "## 方法\n",
    "1. 特征零均值化，计算 $\\bm X'$\n",
    "\n",
    "2. 计算 $\\frac{1}{m} {\\bm X'}^T\\bm X'$\n",
    "\n",
    "3. 计算协方差矩阵特征值\n",
    "\n",
    "4. 特征值排序，并选择对应特征向量，作为 $P$\n",
    "\n",
    "5. $\\bm Y = \\bm X \\bm P$"
   ]
  },
  {
   "cell_type": "code",
   "execution_count": 2,
   "id": "6ed626e9-9015-40ea-86b9-fa2fe3b65f46",
   "metadata": {},
   "outputs": [],
   "source": [
    "import numpy as np\n",
    "from matplotlib import pyplot as plt\n",
    "%matplotlib widget"
   ]
  },
  {
   "cell_type": "code",
   "execution_count": 11,
   "id": "4e598284-548a-4e7a-ae62-71aea1ab194e",
   "metadata": {},
   "outputs": [],
   "source": [
    "def PCA(X, k=None):\n",
    "    # X：数据\n",
    "    # k：保留的维数\n",
    "    \n",
    "    # 特征零均值化\n",
    "    Xc = X - X.sum(axis=0)\n",
    "    \n",
    "    # 计算协方差矩阵\n",
    "    C = 1/len(Xc)*Xc.T@Xc\n",
    "    \n",
    "    # 计算协方差矩阵特征值\n",
    "    ev, fv = np.linalg.eig(C)\n",
    "    \n",
    "    # 特征值排序，并选择对应特征向量，作为 P\n",
    "    index = np.argsort(ev)[::-1]\n",
    "    P = fv[:, index[:k]]\n",
    "    \n",
    "    # 计算 Y = XP\n",
    "    Y = X@P\n",
    "    \n",
    "    return Y"
   ]
  },
  {
   "cell_type": "code",
   "execution_count": 12,
   "id": "b72058fa-2525-416a-bd15-f9ba89420836",
   "metadata": {},
   "outputs": [],
   "source": [
    "from sklearn import datasets\n",
    "iris = datasets.load_iris().data"
   ]
  },
  {
   "cell_type": "code",
   "execution_count": 13,
   "id": "9b5ed337-a4d6-4bd0-99c2-f9405f0fe839",
   "metadata": {},
   "outputs": [
    {
     "data": {
      "application/vnd.jupyter.widget-view+json": {
       "model_id": "2c4c3b33099e4d98963e8309902c1ac4",
       "version_major": 2,
       "version_minor": 0
      },
      "text/plain": [
       "Canvas(toolbar=Toolbar(toolitems=[('Home', 'Reset original view', 'home', 'home'), ('Back', 'Back to previous …"
      ]
     },
     "metadata": {},
     "output_type": "display_data"
    }
   ],
   "source": [
    "# 原数据分布\n",
    "fig = plt.figure()\n",
    "plt.plot()\n",
    "plt.scatter(iris[:,0], iris[:,1], marker='*');"
   ]
  },
  {
   "cell_type": "code",
   "execution_count": 14,
   "id": "802e9ddd-9b7f-4f79-b188-92a5d8860c38",
   "metadata": {},
   "outputs": [],
   "source": [
    "iris_PCA = PCA(iris, 2)"
   ]
  },
  {
   "cell_type": "code",
   "execution_count": 15,
   "id": "f0a8dba6-62c5-43ef-9322-193e1d93cbd1",
   "metadata": {},
   "outputs": [
    {
     "data": {
      "application/vnd.jupyter.widget-view+json": {
       "model_id": "38301f371c8e47138fb7fd5706cb750e",
       "version_major": 2,
       "version_minor": 0
      },
      "text/plain": [
       "Canvas(toolbar=Toolbar(toolitems=[('Home', 'Reset original view', 'home', 'home'), ('Back', 'Back to previous …"
      ]
     },
     "metadata": {},
     "output_type": "display_data"
    }
   ],
   "source": [
    "# PCA后数据分布\n",
    "fig = plt.figure()\n",
    "plt.plot()\n",
    "plt.scatter(iris_PCA[:,0], iris_PCA[:,1], marker='+');"
   ]
  },
  {
   "cell_type": "code",
   "execution_count": 16,
   "id": "ae103588-d68e-48ad-891e-931b9e9b2114",
   "metadata": {},
   "outputs": [],
   "source": [
    "from sklearn.decomposition import PCA\n",
    "pca = PCA(n_components=2)\n",
    "iris_PCA = pca.fit_transform(iris)"
   ]
  },
  {
   "cell_type": "code",
   "execution_count": 17,
   "id": "efd200d5-8f8b-472c-8f7f-ebac748e20c8",
   "metadata": {},
   "outputs": [
    {
     "data": {
      "application/vnd.jupyter.widget-view+json": {
       "model_id": "80e5eb9e819741b588aab57f12a9aaae",
       "version_major": 2,
       "version_minor": 0
      },
      "text/plain": [
       "Canvas(toolbar=Toolbar(toolitems=[('Home', 'Reset original view', 'home', 'home'), ('Back', 'Back to previous …"
      ]
     },
     "metadata": {},
     "output_type": "display_data"
    }
   ],
   "source": [
    "# 和 sklearn 库比照，不同是因为 特征向量的正负\n",
    "fig = plt.figure()\n",
    "plt.plot()\n",
    "plt.scatter(iris_PCA[:,0], iris_PCA[:,1], marker='+');"
   ]
  },
  {
   "cell_type": "markdown",
   "id": "d8b1747d-6d76-4cb5-b5f5-e7e8e966f532",
   "metadata": {},
   "source": [
    "# Kenerl Trick\n",
    "核技巧：通过替换内积公式间接实现空间变换"
   ]
  },
  {
   "cell_type": "code",
   "execution_count": null,
   "id": "a21d6ad6-244d-4d56-a66f-68ccf2a91075",
   "metadata": {},
   "outputs": [],
   "source": []
  }
 ],
 "metadata": {
  "kernelspec": {
   "display_name": "Python 3 (ipykernel)",
   "language": "python",
   "name": "python3"
  },
  "language_info": {
   "codemirror_mode": {
    "name": "ipython",
    "version": 3
   },
   "file_extension": ".py",
   "mimetype": "text/x-python",
   "name": "python",
   "nbconvert_exporter": "python",
   "pygments_lexer": "ipython3",
   "version": "3.9.7"
  }
 },
 "nbformat": 4,
 "nbformat_minor": 5
}
