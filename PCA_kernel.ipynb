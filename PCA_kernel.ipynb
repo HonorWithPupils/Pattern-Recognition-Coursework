{
 "cells": [
  {
   "cell_type": "markdown",
   "id": "c1529a7e-2fda-45ba-9163-88d040403692",
   "metadata": {},
   "source": [
    "# PCA\n",
    "主成分分析（Principal components analysis，PCA）是一种减少数据集维数的方法，同时保持数据集中的对方差贡献最大的特征，使得经过转化过的特征之间不相关，减少冗余信息"
   ]
  },
  {
   "cell_type": "markdown",
   "id": "46653270-50b5-47a5-96b3-32e01470d6f8",
   "metadata": {
    "tags": []
   },
   "source": [
    "## 理论\n",
    "$\\def\\bm{\\boldsymbol}$\n",
    "对于数据 \n",
    "$$\n",
    "\\bm X_{m\\times n} = \n",
    "\\begin{pmatrix}\n",
    "x_{11} & \\dots & x_{1n} \\\\\n",
    "\\vdots & \\ddots& \\vdots \\\\\n",
    "x_{m1} & \\dots & x_{mn}\n",
    "\\end{pmatrix}\n",
    "$$\n",
    "\n",
    "其中 $n$ 为特征维数，$m$ 为样本数量 \n",
    "\n",
    "首先特征零均值化 \n",
    "\n",
    "$$\n",
    "\\bm X' = \\bm X - (\\bm\\mu_1,...,\\bm\\mu_n)\n",
    "$$\n",
    "\n",
    "协方差矩阵为\n",
    "\n",
    "$$\n",
    "\\begin{align}\n",
    "cov(\\bm X,\\bm X) &= E[(\\bm x-\\mu)(\\bm x-\\mu)^T] \\\\ \\\\\n",
    "&=\n",
    "\\begin{pmatrix}\n",
    "\\frac{1}{m}\\sum_{i}^{m}{x'_{i1}}^2 & \\dots & \n",
    "\\frac{1}{m}\\sum_{i}^{m}x'_{i1}x'_{in} \\\\\n",
    "\\vdots & \\ddots & \\vdots \\\\\n",
    "\\frac{1}{m}\\sum_{i}^{m}x'_{in}x'_{i1} & \\dots & \n",
    "\\frac{1}{m}\\sum_{i}^{m}{x'_{in}}^2\n",
    "\\end{pmatrix} \\\\ \\\\\n",
    "&= \\frac{1}{m} {\\bm X'}^T\\bm X' = C\n",
    "\\end{align}\n",
    "$$\n",
    "\n",
    "为使经过变换的特征方差最大，即协方差矩阵对角线最大；为使经过变换的特征之间协方差为 0，即协方差矩阵除对角线外为 0。又由于协方差矩阵为实对称阵，可以容易联想到对角化\n",
    "\n",
    "$$\n",
    "\\begin{align}\n",
    "\\bm \\Lambda &= \\bm P^T C \\bm P\\\\ \\\\\n",
    "&= \\frac{1}{m} \\bm P^T {\\bm X'}^T\\bm X' \\bm P\\\\ \\\\\n",
    "&= \\frac{1}{m} \\bm (\\bm X' \\bm P)^T \\bm X' \\bm P\\\\ \\\\\n",
    "\\Rightarrow &\\bm Y = \\bm X \\bm P\n",
    "\\end{align}\n",
    "$$\n",
    "\n",
    "这其中的具体证明不再复述"
   ]
  },
  {
   "cell_type": "markdown",
   "id": "f4e4de42-6d79-4377-b760-239270379ba7",
   "metadata": {
    "tags": []
   },
   "source": [
    "## 方法\n",
    "1. 特征零均值化，计算 $\\bm X'$\n",
    "\n",
    "2. 计算 $\\frac{1}{m} {\\bm X'}^T\\bm X'$\n",
    "\n",
    "3. 计算协方差矩阵特征值\n",
    "\n",
    "4. 特征值排序，并选择对应特征向量，作为 $P$\n",
    "\n",
    "5. $\\bm Y = \\bm X \\bm P$"
   ]
  },
  {
   "cell_type": "code",
   "execution_count": 1,
   "id": "6ed626e9-9015-40ea-86b9-fa2fe3b65f46",
   "metadata": {},
   "outputs": [],
   "source": [
    "import numpy as np\n",
    "from matplotlib import pyplot as plt\n",
    "# %matplotlib widget"
   ]
  },
  {
   "cell_type": "code",
   "execution_count": 2,
   "id": "4e598284-548a-4e7a-ae62-71aea1ab194e",
   "metadata": {},
   "outputs": [],
   "source": [
    "def PCA(X, k=None):\n",
    "    # X：数据\n",
    "    # k：保留的维数\n",
    "    \n",
    "    # 特征零均值化\n",
    "    Xc = X - X.sum(axis=0)\n",
    "    \n",
    "    # 计算协方差矩阵\n",
    "    C = 1/len(Xc)*Xc.T@Xc\n",
    "    \n",
    "    # 计算协方差矩阵特征值\n",
    "    ev, fv = np.linalg.eig(C)\n",
    "    \n",
    "    # 特征值排序，并选择对应特征向量，作为 P\n",
    "    index = np.argsort(ev)[::-1]\n",
    "    if k is not None:\n",
    "        P = fv[:, index[:k]]\n",
    "    else:\n",
    "        P = fv[:, index]\n",
    "    \n",
    "    # 计算 Y = XP\n",
    "    Y = X@P\n",
    "    \n",
    "    return Y"
   ]
  },
  {
   "cell_type": "code",
   "execution_count": 3,
   "id": "b72058fa-2525-416a-bd15-f9ba89420836",
   "metadata": {},
   "outputs": [],
   "source": [
    "from sklearn import datasets\n",
    "iris = datasets.load_iris().data"
   ]
  },
  {
   "cell_type": "code",
   "execution_count": 4,
   "id": "9b5ed337-a4d6-4bd0-99c2-f9405f0fe839",
   "metadata": {},
   "outputs": [
    {
     "data": {
      "image/png": "[encoded data removed]",
      "text/plain": [
       "<Figure size 432x288 with 1 Axes>"
      ]
     },
     "metadata": {
      "needs_background": "light"
     },
     "output_type": "display_data"
    }
   ],
   "source": [
    "# 原数据分布\n",
    "plt.close('all')\n",
    "fig = plt.figure()\n",
    "plt.scatter(iris[:,0], iris[:,1], marker='*');"
   ]
  },
  {
   "cell_type": "code",
   "execution_count": 5,
   "id": "802e9ddd-9b7f-4f79-b188-92a5d8860c38",
   "metadata": {},
   "outputs": [],
   "source": [
    "iris_PCA = PCA(iris, 2)"
   ]
  },
  {
   "cell_type": "code",
   "execution_count": 6,
   "id": "f0a8dba6-62c5-43ef-9322-193e1d93cbd1",
   "metadata": {},
   "outputs": [
    {
     "data": {
      "image/png": "[encoded data removed]",
      "text/plain": [
       "<Figure size 432x288 with 1 Axes>"
      ]
     },
     "metadata": {
      "needs_background": "light"
     },
     "output_type": "display_data"
    }
   ],
   "source": [
    "# PCA后数据分布\n",
    "fig = plt.figure()\n",
    "plt.scatter(iris_PCA[:,0], iris_PCA[:,1], marker='+');"
   ]
  },
  {
   "cell_type": "code",
   "execution_count": 7,
   "id": "ae103588-d68e-48ad-891e-931b9e9b2114",
   "metadata": {},
   "outputs": [],
   "source": [
    "from sklearn.decomposition import PCA\n",
    "pca = PCA(n_components=2)\n",
    "iris_PCA = pca.fit_transform(iris)"
   ]
  },
  {
   "cell_type": "code",
   "execution_count": 8,
   "id": "efd200d5-8f8b-472c-8f7f-ebac748e20c8",
   "metadata": {},
   "outputs": [
    {
     "data": {
      "image/png": "[encoded data removed]",
      "text/plain": [
       "<Figure size 432x288 with 1 Axes>"
      ]
     },
     "metadata": {
      "needs_background": "light"
     },
     "output_type": "display_data"
    }
   ],
   "source": [
    "# 和 sklearn 库比照，不同是因为 特征向量的正负\n",
    "fig = plt.figure()\n",
    "plt.scatter(iris_PCA[:,0], iris_PCA[:,1], marker='+');"
   ]
  },
  {
   "cell_type": "markdown",
   "id": "d8b1747d-6d76-4cb5-b5f5-e7e8e966f532",
   "metadata": {
    "tags": []
   },
   "source": [
    "# Kenerl Trick"
   ]
  },
  {
   "cell_type": "markdown",
   "id": "000622ee-7498-4632-88dd-cafc9634ab4b",
   "metadata": {},
   "source": [
    "核技巧：通过替换内积公式间接实现空间变换\n",
    "\n",
    "存在某种非线性空间变换 $\\phi(\\bm x)$ ,可以使得数据线性可分\n",
    "\n",
    "但找到这种映射是很困难的，而很多算法都要使用内积,因此我们可以通过假定，非线性变换后的内积，来实现非线性空间变换\n",
    "\n",
    "$$\n",
    "k(\\bm x_1,\\bm x_2) = \\phi(\\bm x_1)^T\\phi(\\bm x_2)\n",
    "$$"
   ]
  },
  {
   "cell_type": "markdown",
   "id": "2c7e90ce-3382-4df6-96d4-ea0be12ee777",
   "metadata": {},
   "source": [
    "著名的高斯核函数：\n",
    "$$\n",
    "k(\\bm x_1,\\bm x_2) = exp(-\\frac{||\\bm x_1 - \\bm x_2||^2}{2\\delta^2})\n",
    "$$"
   ]
  },
  {
   "cell_type": "markdown",
   "id": "d4259b56-f829-4f9b-925d-e14df8e830f6",
   "metadata": {},
   "source": [
    "## 寻找（构造） PCA 算法中的内积运算"
   ]
  },
  {
   "cell_type": "markdown",
   "id": "c6f083de-d479-4502-943b-a01bef2be57a",
   "metadata": {},
   "source": [
    "$$\n",
    "\\def\\bm{\\boldsymbol}\n",
    "\\phi(X) = [\\phi(\\bm x_1),\\dots,\\phi(\\bm x_)]^T \\\\ \\\\\n",
    "$$\n",
    "\n",
    "\n",
    "$$\n",
    "\\begin{align}\n",
    "\\overline C & = \\frac{1}{m}\\phi(X)^T\\phi(X) \\\\ \\\\\n",
    "& = \\frac{1}{m}\\sum_{i=1}^m \\phi(\\bm x_i)\\phi(\\bm x_i)^T \\\\ \\\\\n",
    "\\end{align}\n",
    "$$\n",
    "\n",
    "我们的目的是求解一下特征值问题\n",
    "$$\n",
    "\\overline C\\bm p=\\lambda \\bm p\n",
    "$$\n",
    "\n",
    "\n",
    "将上式代入其中，得到\n",
    "\n",
    "$$\n",
    "\\frac{1}{m}\\sum_{i=1}^m \\phi(\\bm x_i)\\phi(\\bm x_i)^T \\bm p = \\lambda \\bm p\n",
    "$$\n",
    "\n",
    "\n",
    "两边同时除以 $\\lambda$\n",
    "\n",
    "\n",
    "$$\n",
    "\\bm p = \\frac{1}{\\lambda m} \\sum_{i=1}^m \\phi(\\bm x_i)[\\phi(\\bm x_i)^T \\bm p]\n",
    "$$\n",
    "\n",
    "\n",
    "观察到 $\\phi(\\bm x_i)^T \\bm p$ 是一个标量，所以\n",
    "\n",
    "\n",
    "$$\n",
    "\\bm p = \\sum_{i=1}^m \\alpha_i \\phi(\\bm x_i) = \\phi(X)^T\\bm \\alpha\n",
    "$$\n",
    "\n",
    "\n",
    "代回 $\\phi(X)^T\\phi(X)\\bm p = \\lambda \\bm p$ ，得\n",
    "\n",
    "\n",
    "$$\n",
    "\\begin{align}\n",
    "\\frac{1}{m}\\phi(X)^T\\phi(X)\\phi(X)^T\\bm \\alpha &= \\lambda \\phi(X)^T\\bm \\alpha \\\\ \\\\\n",
    "\\frac{1}{m}\\phi(X)\\phi(X)^T\\phi(X)\\phi(X)^T\\bm \\alpha &= \\lambda \\phi(X)\\phi(X)^T\\bm \\alpha\n",
    "\\end{align}\n",
    "$$\n",
    "\n",
    "\n",
    "定义矩阵 $K = \\phi(X)\\phi(X)^T$ ，根据核函数要求其为对称半正定矩阵，\n",
    "\n",
    "\n",
    "$$\n",
    "K_{ij}=\\phi(\\bm x_i)^T\\phi(\\bm x_j)=k(\\bm x1,\\bm x2)\n",
    "$$\n",
    "\n",
    "\n",
    "至此便找到了PCA中的内积，问题变为求解一下特征值问题\n",
    "\n",
    "\n",
    "$$\n",
    "\\begin{align}\n",
    "\\frac{1}{m}K\\cdot K\\bm \\alpha &= \\lambda K \\bm \\alpha \\\\ \\\\\n",
    "\\frac{1}{m}K\\bm \\alpha &= \\lambda \\bm \\alpha\n",
    "\\end{align}\n",
    "$$\n",
    "\n",
    "变化后的空间如下，\n",
    "$$\n",
    "Y = \\phi(X)\\bm p = K\\bm \\alpha\n",
    "$$\n",
    "注意本证明为和 Numpy 中的习惯配合，$X$ 是其它常见证明中的转置"
   ]
  },
  {
   "cell_type": "code",
   "execution_count": 9,
   "id": "65486401-ef2e-4e17-9921-fcd6b9ddb13e",
   "metadata": {},
   "outputs": [],
   "source": [
    "# 高斯核\n",
    "def GaussKernel(delta=1):\n",
    "    def GaussKernelF(x, y):\n",
    "        return np.exp(-((x-y)**2).sum()/(2*delta**2))\n",
    "    return GaussKernelF"
   ]
  },
  {
   "cell_type": "code",
   "execution_count": 10,
   "id": "f08d08f7-7bb4-4f60-919c-8c1b6e034030",
   "metadata": {},
   "outputs": [],
   "source": [
    "# 线性核\n",
    "def linearKernel():\n",
    "    def linearKernelF(x, y):\n",
    "        return x@y\n",
    "    return linearKernelF"
   ]
  },
  {
   "cell_type": "code",
   "execution_count": 11,
   "id": "463cd439-70e9-4478-abe1-1fafc1be8f17",
   "metadata": {},
   "outputs": [],
   "source": [
    "def KPCA(X, k=None, kernel=linearKernel()):\n",
    "    # X：数据\n",
    "    # k：保留的维数\n",
    "    # kernel：核函数\n",
    "\n",
    "    # 特征零均值化\n",
    "    X = X - X.sum(axis=0)\n",
    "    \n",
    "    # 计算 1/m*K\n",
    "    K = np.ndarray((len(X), len(X)))\n",
    "    \n",
    "    # 没有查询到如何写成向量形式，暂且只能这样\n",
    "    for i in range(len(X)):\n",
    "        for j in range(len(X)):\n",
    "            K[i,j] = kernel(X[i],X[j])\n",
    "    \n",
    "    # 计算 K 特征值与特征向量\n",
    "    ev, fv = np.linalg.eig(K)\n",
    "    \n",
    "    # 特征值排序，并选择对应特征向量，作为 a\n",
    "    index = np.argsort(ev)[::-1]\n",
    "    if k is not None:\n",
    "        a = fv[:, index[:k]]\n",
    "    else:\n",
    "        a = fv[:, index]\n",
    "    \n",
    "    # 计算 Y = XP\n",
    "    Y = K@a\n",
    "    \n",
    "    return Y"
   ]
  },
  {
   "cell_type": "code",
   "execution_count": 21,
   "id": "6709c94e-2aef-4249-a4fc-b16ff5e1c990",
   "metadata": {},
   "outputs": [],
   "source": [
    "iris_KPCA = KPCA(iris, k=2, kernel=linearKernel())"
   ]
  },
  {
   "cell_type": "code",
   "execution_count": 22,
   "id": "1cb0271f-2160-41a3-94d2-c3bbec953985",
   "metadata": {},
   "outputs": [
    {
     "data": {
      "image/png": "[encoded data removed]",
      "text/plain": [
       "<Figure size 432x288 with 1 Axes>"
      ]
     },
     "metadata": {
      "needs_background": "light"
     },
     "output_type": "display_data"
    }
   ],
   "source": [
    "fig = plt.figure()\n",
    "plt.scatter(iris_KPCA[:,0], iris_KPCA[:,1], marker='+');"
   ]
  },
  {
   "cell_type": "code",
   "execution_count": 28,
   "id": "3361966d-6362-47b7-aaf0-268a706e2bb0",
   "metadata": {},
   "outputs": [],
   "source": [
    "iris_KPCA = KPCA(iris, k=2, kernel=GaussKernel(2))"
   ]
  },
  {
   "cell_type": "code",
   "execution_count": 29,
   "id": "e25215ed-b822-4b82-8990-0d97f94c5626",
   "metadata": {},
   "outputs": [
    {
     "data": {
      "image/png": "[encoded data removed]",
      "text/plain": [
       "<Figure size 432x288 with 1 Axes>"
      ]
     },
     "metadata": {
      "needs_background": "light"
     },
     "output_type": "display_data"
    }
   ],
   "source": [
    "fig = plt.figure()\n",
    "plt.scatter(iris_KPCA[:,0], iris_KPCA[:,1], marker='+');"
   ]
  },
  {
   "cell_type": "code",
   "execution_count": 16,
   "id": "025c4f7e-7d40-4888-a3c5-09452f6438c8",
   "metadata": {},
   "outputs": [],
   "source": [
    "# 在线性不可分数据集上的效果\n",
    "from sklearn.datasets import make_moons\n",
    "X, y = make_moons(n_samples=100, random_state=123)"
   ]
  },
  {
   "cell_type": "code",
   "execution_count": 17,
   "id": "c42d0403-38a0-4d55-9c3a-fb653cc33490",
   "metadata": {},
   "outputs": [
    {
     "data": {
      "image/png": "[encoded data removed]",
      "text/plain": [
       "<Figure size 432x288 with 1 Axes>"
      ]
     },
     "metadata": {
      "needs_background": "light"
     },
     "output_type": "display_data"
    }
   ],
   "source": [
    "fig = plt.figure()\n",
    "plt.scatter(X[y==0, 0], X[y==0, 1], color='red', marker='^', alpha=0.5);\n",
    "plt.scatter(X[y==1, 0], X[y==1, 1], color='blue', marker='o', alpha=0.5);"
   ]
  },
  {
   "cell_type": "code",
   "execution_count": 18,
   "id": "a0082c7e-93ef-46fe-b0c1-acee1ad65fd3",
   "metadata": {},
   "outputs": [],
   "source": [
    "X_KPCA = KPCA(X, kernel=GaussKernel(0.1))"
   ]
  },
  {
   "cell_type": "code",
   "execution_count": 19,
   "id": "c50f7b25-0966-46fa-90a4-b317312a1f95",
   "metadata": {},
   "outputs": [
    {
     "data": {
      "image/png": "[encoded data removed]",
      "text/plain": [
       "<Figure size 432x288 with 1 Axes>"
      ]
     },
     "metadata": {
      "needs_background": "light"
     },
     "output_type": "display_data"
    }
   ],
   "source": [
    "fig = plt.figure()\n",
    "plt.scatter(X_KPCA[y==0, 0], X_KPCA[y==0, 1], color='red', marker='^', alpha=0.5);\n",
    "plt.scatter(X_KPCA[y==1, 0], X_KPCA[y==1, 1], color='blue', marker='o', alpha=0.5);"
   ]
  },
  {
   "cell_type": "markdown",
   "id": "5daa9d3f-c757-4155-8c57-0f769d2e9087",
   "metadata": {},
   "source": [
    "# 今后的学习\n",
    "1. 如何对 KPCA 进行重构\n",
    "2. 解决目前 KPCA 尺度上的一点小问题"
   ]
  }
 ],
 "metadata": {
  "kernelspec": {
   "display_name": "Python 3 (ipykernel)",
   "language": "python",
   "name": "python3"
  },
  "language_info": {
   "codemirror_mode": {
    "name": "ipython",
    "version": 3
   },
   "file_extension": ".py",
   "mimetype": "text/x-python",
   "name": "python",
   "nbconvert_exporter": "python",
   "pygments_lexer": "ipython3",
   "version": "3.9.5"
  },
  "widgets": {
   "application/vnd.jupyter.widget-state+json": {
    "state": {},
    "version_major": 2,
    "version_minor": 0
   }
  }
 },
 "nbformat": 4,
 "nbformat_minor": 5
}
