{
 "cells": [
  {
   "cell_type": "markdown",
   "id": "0b282552-77e6-4568-abb2-d7778944679e",
   "metadata": {},
   "source": [
    "# Decision Tree"
   ]
  },
  {
   "cell_type": "code",
   "execution_count": 2,
   "id": "56372bbd-7dee-4a3a-aa60-06f2b3d649ec",
   "metadata": {},
   "outputs": [],
   "source": [
    "import numpy as np\n",
    "from matplotlib import pyplot as plt"
   ]
  },
  {
   "cell_type": "markdown",
   "id": "8e773a66-4b21-40b8-ad94-430006783df2",
   "metadata": {
    "tags": []
   },
   "source": [
    "## 信息增益"
   ]
  },
  {
   "cell_type": "markdown",
   "id": "80251c96-0fe9-47f6-a322-b2aa5029a009",
   "metadata": {},
   "source": [
    "### 熵"
   ]
  },
  {
   "cell_type": "markdown",
   "id": "dac078c9-a4d8-4ae6-b46e-934a13806de0",
   "metadata": {},
   "source": [
    "定义\n",
    "\n",
    "$$\n",
    "H(Y) = -\\sum_y p(y)\\log p(y)\n",
    "$$"
   ]
  },
  {
   "cell_type": "markdown",
   "id": "3f7bf1fe-4669-41c4-9469-c17d295d4064",
   "metadata": {},
   "source": [
    "条件熵\n",
    "\n",
    "\n",
    "$$\n",
    "H(Y|X) = \\sum p(x_i) H(Y|X=x_i)\n",
    "$$"
   ]
  },
  {
   "cell_type": "markdown",
   "id": "ecfed2cd-9ccc-496a-83d8-cb1367dc59d5",
   "metadata": {},
   "source": [
    "信息增益 —— 熵定义下\n",
    "\n",
    "\n",
    "$$\n",
    "g(Y,X) = H(Y)-H(Y|X)\n",
    "$$"
   ]
  },
  {
   "cell_type": "markdown",
   "id": "c90e9cc1-543b-4d00-9180-846b2ac6713c",
   "metadata": {},
   "source": [
    "由于在使用多叉树时，该增益会倾向于优秀使用类别多的特征，比如一个所有样本均不同的特征，使得 $H(Y|X)=0$ 。为了避免这种情况，在 CE4.5 中增加了对此的抑制，如下\n",
    "\n",
    "\n",
    "$$\n",
    "g_R(Y, X) = \\frac{g(Y, X)}{H_X(Y)}\n",
    "$$\n",
    "\n",
    "其中 $H_X(Y) = −\\sum_{i=1}^n\\frac{|Xi|}{|X|}log_2\\frac{|Xi|}{|X|}$\n",
    "\n",
    "在二叉树的情况下，这个指标也会使得数量两边的分割尽量均匀"
   ]
  },
  {
   "cell_type": "markdown",
   "id": "c4d70474-953d-42d0-95f0-16d537c684b7",
   "metadata": {},
   "source": [
    "### 基尼指数"
   ]
  },
  {
   "cell_type": "markdown",
   "id": "41ca65be-5ad0-4f7e-b911-6e3f1f3170f4",
   "metadata": {},
   "source": [
    "$$\n",
    "Gini(Y) = 1-\\sum_y p^2(y)\n",
    "$$"
   ]
  },
  {
   "cell_type": "markdown",
   "id": "5bfceef8-a507-487f-9699-09ba1a4931b2",
   "metadata": {},
   "source": [
    "$$\n",
    "Gini(Y,X) = \\frac{|X_1|}{|X|} Gini(Y_1) + \\frac{|X_2|}{|X|} Gini(Y_2)\n",
    "$$\n",
    "\n",
    "由于使用基尼指数的 CART 是二叉树，所以并不用考虑分类惩罚的情况"
   ]
  },
  {
   "cell_type": "markdown",
   "id": "e23ec0e5-e931-42e5-9ac8-e317663e3ee9",
   "metadata": {},
   "source": [
    "## 实现 CART （分类）"
   ]
  },
  {
   "cell_type": "code",
   "execution_count": 4,
   "id": "ecdb83fb-3f80-499a-a04e-0914a847ec96",
   "metadata": {},
   "outputs": [],
   "source": [
    "class CT:\n",
    "    def __init__(self):\n",
    "        pass\n",
    "    \n",
    "    def train(X,Y,xType):\n",
    "        self.n = X.shape[0]\n",
    "        self.mX = X.shape[1]\n",
    "        self.xType = xType\n",
    "        \n",
    "        self.buildTree(X,Y)\n",
    "        \n",
    "        \n",
    "        return \n",
    "    \n",
    "    def buildTree(self):\n",
    "        self._buildTree(self,X,Y)\n",
    "        return\n",
    "        \n",
    "    def _buildTree(self,X,Y):\n",
    "        return \n",
    "    \n",
    "    def predict(X):\n",
    "        return"
   ]
  }
 ],
 "metadata": {
  "kernelspec": {
   "display_name": "Study",
   "language": "python",
   "name": "study"
  },
  "language_info": {
   "codemirror_mode": {
    "name": "ipython",
    "version": 3
   },
   "file_extension": ".py",
   "mimetype": "text/x-python",
   "name": "python",
   "nbconvert_exporter": "python",
   "pygments_lexer": "ipython3",
   "version": "3.7.0"
  },
  "widgets": {
   "application/vnd.jupyter.widget-state+json": {
    "state": {},
    "version_major": 2,
    "version_minor": 0
   }
  }
 },
 "nbformat": 4,
 "nbformat_minor": 5
}
